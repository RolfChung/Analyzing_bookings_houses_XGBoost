{
 "cells": [
  {
   "cell_type": "markdown",
   "id": "b1cf0215",
   "metadata": {
    "colab_type": "text",
    "id": "6Ijg5wUCTQYG",
    "jp-MarkdownHeadingCollapsed": true,
    "tags": []
   },
   "source": [
    "# Summary\n",
    "<p>\n",
    "My solution of the code along. I did not use the solution.<br>\n",
    "My main problem: limited computing resources make the hyperparameter tuning tedious.<br>\n",
    "As an esemble methods in particular the number of trees parameter promises better predictions.<br>\n",
    "This increases the computational challenge.<br>\n",
    "I provided several param grids for hyperparameter tuning, but apply only those with few parameters.<br>\n",
    "Otherwise the computations would take to long.<br>\n",
    "However the bigger params grid can easily inserted as variables.<br>\n",
    "It shows that adding processing power with cloud computing makes sense in machine learning.\n",
    "</p>\n",
    "\n",
    "<p>\n",
    "It is advisable to save models in particular, when the training costs are extensive.\n",
    "A good overview is given here on Medium:<br> \n",
    "<a href=\"https://medium.datadriveninvestor.com/machine-learning-how-to-save-and-load-scikit-learn-models-d7b99bc32c27\" target=\"_blank\">machine-learning-how-to-save-and-load-scikit-learn-models</a> \n",
    "</p>\n",
    "\n",
    "<p>\n",
    "I added several methods to the code along like:\n",
    "</p>\n",
    "   \n",
    "<ul>\n",
    "  <li>Classes</li> \n",
    "  <li>error visualizations</li>\n",
    "  <li>Gridsearch</li>\n",
    "  <li>Pipelines</li>\n",
    "  <li>Cross validation</li>\n",
    "  <li>Dmatrix with the XGBoost learning API</li>\n",
    "</ul> "
   ]
  },
  {
   "cell_type": "markdown",
   "id": "7ddb5841-86d9-47a0-bc48-666b5305b8e6",
   "metadata": {},
   "source": [
    "# **Machine Learning with XGboost in Python**\n",
    "\n",
    "Welcome to this code-along, where we will use XGBoost to predict booking cancellations with gradient boosting, a powerful machine learning technique! Through this, you'll learn how to create, evaluate, and tune XGBoost models efficiently. There will be time to answer any questions, so please add them!\n",
    "\n",
    "## **The Dataset**\n",
    "\n",
    "The session's dataset is a CSV file named `hotel_bookings_clean.csv`, which contains data on hotel bookings. \n",
    "\n",
    "### **Acknowledgements**\n",
    "The dataset was downloaded on [Kaggle](https://www.kaggle.com/jessemostipak/hotel-booking-demand/). The data is originally from an article called [Hotel booking demand datasets](https://www.sciencedirect.com/science/article/pii/S2352340918315191) by Nuno Antonio, Ana de Almeida, and Luis Nunes. It was then cleaned by Thomas Mock and Antoine Bichat for [#TidyTuesday during the week of February 11th, 2020](https://github.com/rfordatascience/tidytuesday/blob/master/data/2020/2020-02-11/readme.md). For the purposes of this code-along, it was further pre-processed to have cleaner ready-to-use features (e.g., dropping irrelevant columns, one-hot-encoding). The dataset has the following [license](https://creativecommons.org/licenses/by/4.0/).\n",
    "\n",
    "### **Data Dictionary**\n",
    "\n",
    "It contains the **53 columns**:\n",
    "\n",
    "_For binary variables: `1` = true and `0` = false._\n",
    "\n",
    "#### **Target** \n",
    "- `is_canceled`: Binary variable indicating whether a booking was canceled\n",
    "\n",
    "#### **Features** \n",
    "- `lead time`: Number of days between booking date and arrival date\n",
    "- `arrival_date_week_number`, `arrival_date_day_of_month`, `arrival_date_month`: Week number, day date, and month number of arrival date \n",
    "- `stays_in_weekend_nights`, `stays_in_week_nights`: Number of weekend nights (Saturday and Sunday) and weeknights (Monday to Friday) the customer booked\n",
    "- `adults`,`children`,`babies`: Number of adults, children, babies booked for the stay\n",
    "- `is_repeated_guest`: Binary variable indicating whether the customer was a repeat guest \n",
    "- `previous_cancellations`: Number of prior bookings that were canceled by the customer\n",
    "- `previous_bookings_not_canceled`: Number of prior bookings that were not canceled by the customer\n",
    "- `required_car_parking_spaces`: Number of parking spaces requested by the customer\n",
    "- `total_of_special_requests`: Number of special requests made by the customer\n",
    "- `avg_daily_rate`: Average daily rate, as defined by dividing the sum of all lodging transactions by the total number of staying nights\n",
    "- `booked_by_company`: Binary variable indicating whether a company booked the booking\n",
    "- `booked_by_agent`: Binary variable indicating whether an agent booked the booking\n",
    "- `hotel_City`: Binary variable indicating whether the booked hotel is a \"City Hotel\"\n",
    "- `hotel_Resort`: Binary variable indicating whether the booked hotel is a \"Resort Hotel\"\n",
    "- `meal_BB`: Binary variable indicating whether a bed & breakfast meal was booked \n",
    "- `meal_HB`: Binary variable indicating whether a half board meal was booked\n",
    "- `meal_FB`: Binary variable indicating whether a full board meal was booked \n",
    "- `meal_No_meal`: Binary variable indicating whether there was no meal package booked \n",
    "- `market_segment_Aviation`, `market_segment_Complementary`, `market_segment_Corporate`, `market_segment_Direct`, `market_segment_Groups`, `market_segment_Offline_TA_TO`, `market_segment_Online_TA`, `market_segment_Undefined`: Indicates market segment designation with a value of `1`. \"TA\"= travel agent, \"TO\"= tour operators\n",
    "- `distribution_channel_Corporate`, `distribution_channel_Direct`, `distribution_channel_GDS`, `distribution_channel_TA_TO`, `distribution_channel_Undefined`: Indicates booking distribution channel with a value of `1`. \"TA\"= travel agent, \"TO\"= tour operators, \"GDS\" = Global Distribution System\n",
    "- `reserved_room_type_A`,`reserved_room_type_B`, `reserved_room_type_C`,`reserved_room_type_D`, `reserved_room_type_E`, `reserved_room_type_F`, `reserved_room_type_G`, `reserved_room_type_H`, `reserved_room_type_L`: Indicates code of room type reserved with a value of `1`. Code is presented instead of designation for anonymity reasons\n",
    "- `deposit_type_No_Deposit`: Binary variable indicating whether a deposit was made\n",
    "- `deposit_type_Non_Refund`: Binary variable indicating whether a deposit was made in the value of the total stay cost\n",
    "- `deposit_type_Refundable`: Binary variable indicating whether a deposit was made with a value under the total stay cost \n",
    "- `customer_type_Contract`: Binary variable indicating whether the booking has an allotment or other type of contract associated to it \n",
    "- `customer_type_Group`: Binary variable indicating whether the booking is associated to a group \n",
    "- `customer_type_Transient`: Binary variable indicating whether the booking is not part of a group or contract, and is not associated to other transient booking\n",
    "- `customer_type_Transient-Party`: Binary variable indicating whether the booking is transient, but is associated to at least another transient booking\n",
    "\n",
    "---\n"
   ]
  },
  {
   "cell_type": "markdown",
   "id": "e25d5af4",
   "metadata": {
    "colab_type": "text",
    "id": "BMYfcKeDY85K"
   },
   "source": [
    "## **1. Getting to know our data**\n",
    "\n",
    "Let's get to know our columns and split our data into features and labels!"
   ]
  },
  {
   "cell_type": "code",
   "execution_count": 1,
   "id": "a6b3c435",
   "metadata": {
    "colab": {},
    "colab_type": "code",
    "id": "EMQfyC7GUNhT"
   },
   "outputs": [],
   "source": [
    "# Import libraries\n",
    "import pandas as pd\n",
    "import xgboost as xgb # XGBoost typically uses the alias \"xgb\"\n",
    "import numpy as np\n",
    "import matplotlib.pyplot as plt\n",
    "import time\n",
    "\n",
    "from sklearn.metrics import accuracy_score\n",
    "from sklearn.metrics import roc_auc_score\n",
    "from sklearn.model_selection import GridSearchCV\n",
    "from sklearn.preprocessing import StandardScaler\n",
    "from sklearn.pipeline import Pipeline\n",
    "from sklearn.model_selection import cross_val_score\n",
    "from sklearn.svm import SVC\n",
    "import joblib"
   ]
  },
  {
   "cell_type": "code",
   "execution_count": 2,
   "id": "f6981a13",
   "metadata": {
    "colab": {
     "base_uri": "https://localhost:8080/",
     "height": 1000
    },
    "colab_type": "code",
    "id": "l8t_EwRNZPLB",
    "outputId": "f62f9e0f-324d-4fbc-b63e-3bc972e2065e"
   },
   "outputs": [
    {
     "data": {
      "text/plain": [
       "['is_canceled',\n",
       " 'lead_time',\n",
       " 'arrival_date_week_number',\n",
       " 'arrival_date_day_of_month',\n",
       " 'arrival_date_month',\n",
       " 'stays_in_weekend_nights',\n",
       " 'stays_in_week_nights',\n",
       " 'adults',\n",
       " 'children',\n",
       " 'babies',\n",
       " 'is_repeated_guest',\n",
       " 'previous_cancellations',\n",
       " 'previous_bookings_not_canceled',\n",
       " 'required_car_parking_spaces',\n",
       " 'total_of_special_requests',\n",
       " 'avg_daily_rate',\n",
       " 'booked_by_company',\n",
       " 'booked_by_agent',\n",
       " 'hotel_City',\n",
       " 'hotel_Resort',\n",
       " 'meal_BB',\n",
       " 'meal_FB',\n",
       " 'meal_HB',\n",
       " 'meal_No_meal',\n",
       " 'market_segment_Aviation',\n",
       " 'market_segment_Complementary',\n",
       " 'market_segment_Corporate',\n",
       " 'market_segment_Direct',\n",
       " 'market_segment_Groups',\n",
       " 'market_segment_Offline_TA_TO',\n",
       " 'market_segment_Online_TA',\n",
       " 'market_segment_Undefined',\n",
       " 'distribution_channel_Corporate',\n",
       " 'distribution_channel_Direct',\n",
       " 'distribution_channel_GDS',\n",
       " 'distribution_channel_TA_TO',\n",
       " 'distribution_channel_Undefined',\n",
       " 'reserved_room_type_A',\n",
       " 'reserved_room_type_B',\n",
       " 'reserved_room_type_C',\n",
       " 'reserved_room_type_D',\n",
       " 'reserved_room_type_E',\n",
       " 'reserved_room_type_F',\n",
       " 'reserved_room_type_G',\n",
       " 'reserved_room_type_H',\n",
       " 'reserved_room_type_L',\n",
       " 'deposit_type_No_Deposit',\n",
       " 'deposit_type_Non_Refund',\n",
       " 'deposit_type_Refundable',\n",
       " 'customer_type_Contract',\n",
       " 'customer_type_Group',\n",
       " 'customer_type_Transient',\n",
       " 'customer_type_Transient-Party']"
      ]
     },
     "execution_count": 2,
     "metadata": {},
     "output_type": "execute_result"
    }
   ],
   "source": [
    "# Read in the dataset\n",
    "\n",
    "bookings = pd.read_csv(\"hotel_bookings_clean.csv\")\n",
    "# List out our columns\n",
    "bookings.columns.tolist()"
   ]
  },
  {
   "cell_type": "markdown",
   "id": "9fe2c64d",
   "metadata": {
    "colab_type": "text",
    "id": "zXUmEsbEegrs"
   },
   "source": [
    "It looks like we have 53 columns with 119,210 rows. All the datatypes are numeric and ready for use."
   ]
  },
  {
   "cell_type": "code",
   "execution_count": 3,
   "id": "88f64bfa",
   "metadata": {
    "colab": {
     "base_uri": "https://localhost:8080/",
     "height": 334
    },
    "colab_type": "code",
    "id": "IAfz_jiu0NjN",
    "outputId": "2bb653e9-37cc-48fe-cb66-966de9af1eea"
   },
   "outputs": [
    {
     "name": "stdout",
     "output_type": "stream",
     "text": [
      "<class 'pandas.core.frame.DataFrame'>\n",
      "RangeIndex: 119210 entries, 0 to 119209\n",
      "Data columns (total 53 columns):\n",
      " #   Column                          Non-Null Count   Dtype  \n",
      "---  ------                          --------------   -----  \n",
      " 0   is_canceled                     119210 non-null  int64  \n",
      " 1   lead_time                       119210 non-null  int64  \n",
      " 2   arrival_date_week_number        119210 non-null  int64  \n",
      " 3   arrival_date_day_of_month       119210 non-null  int64  \n",
      " 4   arrival_date_month              119210 non-null  int64  \n",
      " 5   stays_in_weekend_nights         119210 non-null  int64  \n",
      " 6   stays_in_week_nights            119210 non-null  int64  \n",
      " 7   adults                          119210 non-null  int64  \n",
      " 8   children                        119206 non-null  float64\n",
      " 9   babies                          119210 non-null  int64  \n",
      " 10  is_repeated_guest               119210 non-null  int64  \n",
      " 11  previous_cancellations          119210 non-null  int64  \n",
      " 12  previous_bookings_not_canceled  119210 non-null  int64  \n",
      " 13  required_car_parking_spaces     119210 non-null  int64  \n",
      " 14  total_of_special_requests       119210 non-null  int64  \n",
      " 15  avg_daily_rate                  119210 non-null  float64\n",
      " 16  booked_by_company               119210 non-null  int64  \n",
      " 17  booked_by_agent                 119210 non-null  int64  \n",
      " 18  hotel_City                      119210 non-null  int64  \n",
      " 19  hotel_Resort                    119210 non-null  int64  \n",
      " 20  meal_BB                         119210 non-null  int64  \n",
      " 21  meal_FB                         119210 non-null  int64  \n",
      " 22  meal_HB                         119210 non-null  int64  \n",
      " 23  meal_No_meal                    119210 non-null  int64  \n",
      " 24  market_segment_Aviation         119210 non-null  int64  \n",
      " 25  market_segment_Complementary    119210 non-null  int64  \n",
      " 26  market_segment_Corporate        119210 non-null  int64  \n",
      " 27  market_segment_Direct           119210 non-null  int64  \n",
      " 28  market_segment_Groups           119210 non-null  int64  \n",
      " 29  market_segment_Offline_TA_TO    119210 non-null  int64  \n",
      " 30  market_segment_Online_TA        119210 non-null  int64  \n",
      " 31  market_segment_Undefined        119210 non-null  int64  \n",
      " 32  distribution_channel_Corporate  119210 non-null  int64  \n",
      " 33  distribution_channel_Direct     119210 non-null  int64  \n",
      " 34  distribution_channel_GDS        119210 non-null  int64  \n",
      " 35  distribution_channel_TA_TO      119210 non-null  int64  \n",
      " 36  distribution_channel_Undefined  119210 non-null  int64  \n",
      " 37  reserved_room_type_A            119210 non-null  int64  \n",
      " 38  reserved_room_type_B            119210 non-null  int64  \n",
      " 39  reserved_room_type_C            119210 non-null  int64  \n",
      " 40  reserved_room_type_D            119210 non-null  int64  \n",
      " 41  reserved_room_type_E            119210 non-null  int64  \n",
      " 42  reserved_room_type_F            119210 non-null  int64  \n",
      " 43  reserved_room_type_G            119210 non-null  int64  \n",
      " 44  reserved_room_type_H            119210 non-null  int64  \n",
      " 45  reserved_room_type_L            119210 non-null  int64  \n",
      " 46  deposit_type_No_Deposit         119210 non-null  int64  \n",
      " 47  deposit_type_Non_Refund         119210 non-null  int64  \n",
      " 48  deposit_type_Refundable         119210 non-null  int64  \n",
      " 49  customer_type_Contract          119210 non-null  int64  \n",
      " 50  customer_type_Group             119210 non-null  int64  \n",
      " 51  customer_type_Transient         119210 non-null  int64  \n",
      " 52  customer_type_Transient-Party   119210 non-null  int64  \n",
      "dtypes: float64(2), int64(51)\n",
      "memory usage: 48.2 MB\n"
     ]
    }
   ],
   "source": [
    "# Take a closer look at column distributions\n",
    "bookings.info()"
   ]
  },
  {
   "cell_type": "code",
   "execution_count": 4,
   "id": "1d7388e3-6c34-489d-ab51-871237fefb87",
   "metadata": {},
   "outputs": [
    {
     "data": {
      "text/html": [
       "<div>\n",
       "<style scoped>\n",
       "    .dataframe tbody tr th:only-of-type {\n",
       "        vertical-align: middle;\n",
       "    }\n",
       "\n",
       "    .dataframe tbody tr th {\n",
       "        vertical-align: top;\n",
       "    }\n",
       "\n",
       "    .dataframe thead th {\n",
       "        text-align: right;\n",
       "    }\n",
       "</style>\n",
       "<table border=\"1\" class=\"dataframe\">\n",
       "  <thead>\n",
       "    <tr style=\"text-align: right;\">\n",
       "      <th></th>\n",
       "      <th>is_canceled</th>\n",
       "      <th>lead_time</th>\n",
       "      <th>arrival_date_week_number</th>\n",
       "      <th>arrival_date_day_of_month</th>\n",
       "      <th>arrival_date_month</th>\n",
       "      <th>stays_in_weekend_nights</th>\n",
       "      <th>stays_in_week_nights</th>\n",
       "      <th>adults</th>\n",
       "      <th>children</th>\n",
       "      <th>babies</th>\n",
       "      <th>...</th>\n",
       "      <th>reserved_room_type_G</th>\n",
       "      <th>reserved_room_type_H</th>\n",
       "      <th>reserved_room_type_L</th>\n",
       "      <th>deposit_type_No_Deposit</th>\n",
       "      <th>deposit_type_Non_Refund</th>\n",
       "      <th>deposit_type_Refundable</th>\n",
       "      <th>customer_type_Contract</th>\n",
       "      <th>customer_type_Group</th>\n",
       "      <th>customer_type_Transient</th>\n",
       "      <th>customer_type_Transient-Party</th>\n",
       "    </tr>\n",
       "  </thead>\n",
       "  <tbody>\n",
       "    <tr>\n",
       "      <th>count</th>\n",
       "      <td>119210.000000</td>\n",
       "      <td>119210.000000</td>\n",
       "      <td>119210.000000</td>\n",
       "      <td>119210.000000</td>\n",
       "      <td>119210.000000</td>\n",
       "      <td>119210.000000</td>\n",
       "      <td>119210.000000</td>\n",
       "      <td>119210.000000</td>\n",
       "      <td>119206.000000</td>\n",
       "      <td>119210.000000</td>\n",
       "      <td>...</td>\n",
       "      <td>119210.000000</td>\n",
       "      <td>119210.000000</td>\n",
       "      <td>119210.000000</td>\n",
       "      <td>119210.000000</td>\n",
       "      <td>119210.000000</td>\n",
       "      <td>119210.000000</td>\n",
       "      <td>119210.000000</td>\n",
       "      <td>119210.000000</td>\n",
       "      <td>119210.000000</td>\n",
       "      <td>119210.000000</td>\n",
       "    </tr>\n",
       "    <tr>\n",
       "      <th>mean</th>\n",
       "      <td>0.370766</td>\n",
       "      <td>104.109227</td>\n",
       "      <td>27.163376</td>\n",
       "      <td>15.798717</td>\n",
       "      <td>6.552051</td>\n",
       "      <td>0.927053</td>\n",
       "      <td>2.499195</td>\n",
       "      <td>1.859206</td>\n",
       "      <td>0.104047</td>\n",
       "      <td>0.007961</td>\n",
       "      <td>...</td>\n",
       "      <td>0.017549</td>\n",
       "      <td>0.005042</td>\n",
       "      <td>0.000050</td>\n",
       "      <td>0.876277</td>\n",
       "      <td>0.122364</td>\n",
       "      <td>0.001359</td>\n",
       "      <td>0.034158</td>\n",
       "      <td>0.004815</td>\n",
       "      <td>0.750575</td>\n",
       "      <td>0.210452</td>\n",
       "    </tr>\n",
       "    <tr>\n",
       "      <th>std</th>\n",
       "      <td>0.483012</td>\n",
       "      <td>106.875450</td>\n",
       "      <td>13.601107</td>\n",
       "      <td>8.781070</td>\n",
       "      <td>3.089796</td>\n",
       "      <td>0.995117</td>\n",
       "      <td>1.897106</td>\n",
       "      <td>0.575186</td>\n",
       "      <td>0.398842</td>\n",
       "      <td>0.097509</td>\n",
       "      <td>...</td>\n",
       "      <td>0.131305</td>\n",
       "      <td>0.070825</td>\n",
       "      <td>0.007094</td>\n",
       "      <td>0.329266</td>\n",
       "      <td>0.327707</td>\n",
       "      <td>0.036839</td>\n",
       "      <td>0.181636</td>\n",
       "      <td>0.069223</td>\n",
       "      <td>0.432682</td>\n",
       "      <td>0.407631</td>\n",
       "    </tr>\n",
       "    <tr>\n",
       "      <th>min</th>\n",
       "      <td>0.000000</td>\n",
       "      <td>0.000000</td>\n",
       "      <td>1.000000</td>\n",
       "      <td>1.000000</td>\n",
       "      <td>1.000000</td>\n",
       "      <td>0.000000</td>\n",
       "      <td>0.000000</td>\n",
       "      <td>0.000000</td>\n",
       "      <td>0.000000</td>\n",
       "      <td>0.000000</td>\n",
       "      <td>...</td>\n",
       "      <td>0.000000</td>\n",
       "      <td>0.000000</td>\n",
       "      <td>0.000000</td>\n",
       "      <td>0.000000</td>\n",
       "      <td>0.000000</td>\n",
       "      <td>0.000000</td>\n",
       "      <td>0.000000</td>\n",
       "      <td>0.000000</td>\n",
       "      <td>0.000000</td>\n",
       "      <td>0.000000</td>\n",
       "    </tr>\n",
       "    <tr>\n",
       "      <th>25%</th>\n",
       "      <td>0.000000</td>\n",
       "      <td>18.000000</td>\n",
       "      <td>16.000000</td>\n",
       "      <td>8.000000</td>\n",
       "      <td>4.000000</td>\n",
       "      <td>0.000000</td>\n",
       "      <td>1.000000</td>\n",
       "      <td>2.000000</td>\n",
       "      <td>0.000000</td>\n",
       "      <td>0.000000</td>\n",
       "      <td>...</td>\n",
       "      <td>0.000000</td>\n",
       "      <td>0.000000</td>\n",
       "      <td>0.000000</td>\n",
       "      <td>1.000000</td>\n",
       "      <td>0.000000</td>\n",
       "      <td>0.000000</td>\n",
       "      <td>0.000000</td>\n",
       "      <td>0.000000</td>\n",
       "      <td>1.000000</td>\n",
       "      <td>0.000000</td>\n",
       "    </tr>\n",
       "    <tr>\n",
       "      <th>50%</th>\n",
       "      <td>0.000000</td>\n",
       "      <td>69.000000</td>\n",
       "      <td>28.000000</td>\n",
       "      <td>16.000000</td>\n",
       "      <td>7.000000</td>\n",
       "      <td>1.000000</td>\n",
       "      <td>2.000000</td>\n",
       "      <td>2.000000</td>\n",
       "      <td>0.000000</td>\n",
       "      <td>0.000000</td>\n",
       "      <td>...</td>\n",
       "      <td>0.000000</td>\n",
       "      <td>0.000000</td>\n",
       "      <td>0.000000</td>\n",
       "      <td>1.000000</td>\n",
       "      <td>0.000000</td>\n",
       "      <td>0.000000</td>\n",
       "      <td>0.000000</td>\n",
       "      <td>0.000000</td>\n",
       "      <td>1.000000</td>\n",
       "      <td>0.000000</td>\n",
       "    </tr>\n",
       "    <tr>\n",
       "      <th>75%</th>\n",
       "      <td>1.000000</td>\n",
       "      <td>161.000000</td>\n",
       "      <td>38.000000</td>\n",
       "      <td>23.000000</td>\n",
       "      <td>9.000000</td>\n",
       "      <td>2.000000</td>\n",
       "      <td>3.000000</td>\n",
       "      <td>2.000000</td>\n",
       "      <td>0.000000</td>\n",
       "      <td>0.000000</td>\n",
       "      <td>...</td>\n",
       "      <td>0.000000</td>\n",
       "      <td>0.000000</td>\n",
       "      <td>0.000000</td>\n",
       "      <td>1.000000</td>\n",
       "      <td>0.000000</td>\n",
       "      <td>0.000000</td>\n",
       "      <td>0.000000</td>\n",
       "      <td>0.000000</td>\n",
       "      <td>1.000000</td>\n",
       "      <td>0.000000</td>\n",
       "    </tr>\n",
       "    <tr>\n",
       "      <th>max</th>\n",
       "      <td>1.000000</td>\n",
       "      <td>737.000000</td>\n",
       "      <td>53.000000</td>\n",
       "      <td>31.000000</td>\n",
       "      <td>12.000000</td>\n",
       "      <td>19.000000</td>\n",
       "      <td>50.000000</td>\n",
       "      <td>55.000000</td>\n",
       "      <td>10.000000</td>\n",
       "      <td>10.000000</td>\n",
       "      <td>...</td>\n",
       "      <td>1.000000</td>\n",
       "      <td>1.000000</td>\n",
       "      <td>1.000000</td>\n",
       "      <td>1.000000</td>\n",
       "      <td>1.000000</td>\n",
       "      <td>1.000000</td>\n",
       "      <td>1.000000</td>\n",
       "      <td>1.000000</td>\n",
       "      <td>1.000000</td>\n",
       "      <td>1.000000</td>\n",
       "    </tr>\n",
       "  </tbody>\n",
       "</table>\n",
       "<p>8 rows × 53 columns</p>\n",
       "</div>"
      ],
      "text/plain": [
       "         is_canceled      lead_time  arrival_date_week_number  \\\n",
       "count  119210.000000  119210.000000             119210.000000   \n",
       "mean        0.370766     104.109227                 27.163376   \n",
       "std         0.483012     106.875450                 13.601107   \n",
       "min         0.000000       0.000000                  1.000000   \n",
       "25%         0.000000      18.000000                 16.000000   \n",
       "50%         0.000000      69.000000                 28.000000   \n",
       "75%         1.000000     161.000000                 38.000000   \n",
       "max         1.000000     737.000000                 53.000000   \n",
       "\n",
       "       arrival_date_day_of_month  arrival_date_month  stays_in_weekend_nights  \\\n",
       "count              119210.000000       119210.000000            119210.000000   \n",
       "mean                   15.798717            6.552051                 0.927053   \n",
       "std                     8.781070            3.089796                 0.995117   \n",
       "min                     1.000000            1.000000                 0.000000   \n",
       "25%                     8.000000            4.000000                 0.000000   \n",
       "50%                    16.000000            7.000000                 1.000000   \n",
       "75%                    23.000000            9.000000                 2.000000   \n",
       "max                    31.000000           12.000000                19.000000   \n",
       "\n",
       "       stays_in_week_nights         adults       children         babies  ...  \\\n",
       "count         119210.000000  119210.000000  119206.000000  119210.000000  ...   \n",
       "mean               2.499195       1.859206       0.104047       0.007961  ...   \n",
       "std                1.897106       0.575186       0.398842       0.097509  ...   \n",
       "min                0.000000       0.000000       0.000000       0.000000  ...   \n",
       "25%                1.000000       2.000000       0.000000       0.000000  ...   \n",
       "50%                2.000000       2.000000       0.000000       0.000000  ...   \n",
       "75%                3.000000       2.000000       0.000000       0.000000  ...   \n",
       "max               50.000000      55.000000      10.000000      10.000000  ...   \n",
       "\n",
       "       reserved_room_type_G  reserved_room_type_H  reserved_room_type_L  \\\n",
       "count         119210.000000         119210.000000         119210.000000   \n",
       "mean               0.017549              0.005042              0.000050   \n",
       "std                0.131305              0.070825              0.007094   \n",
       "min                0.000000              0.000000              0.000000   \n",
       "25%                0.000000              0.000000              0.000000   \n",
       "50%                0.000000              0.000000              0.000000   \n",
       "75%                0.000000              0.000000              0.000000   \n",
       "max                1.000000              1.000000              1.000000   \n",
       "\n",
       "       deposit_type_No_Deposit  deposit_type_Non_Refund  \\\n",
       "count            119210.000000            119210.000000   \n",
       "mean                  0.876277                 0.122364   \n",
       "std                   0.329266                 0.327707   \n",
       "min                   0.000000                 0.000000   \n",
       "25%                   1.000000                 0.000000   \n",
       "50%                   1.000000                 0.000000   \n",
       "75%                   1.000000                 0.000000   \n",
       "max                   1.000000                 1.000000   \n",
       "\n",
       "       deposit_type_Refundable  customer_type_Contract  customer_type_Group  \\\n",
       "count            119210.000000           119210.000000        119210.000000   \n",
       "mean                  0.001359                0.034158             0.004815   \n",
       "std                   0.036839                0.181636             0.069223   \n",
       "min                   0.000000                0.000000             0.000000   \n",
       "25%                   0.000000                0.000000             0.000000   \n",
       "50%                   0.000000                0.000000             0.000000   \n",
       "75%                   0.000000                0.000000             0.000000   \n",
       "max                   1.000000                1.000000             1.000000   \n",
       "\n",
       "       customer_type_Transient  customer_type_Transient-Party  \n",
       "count            119210.000000                  119210.000000  \n",
       "mean                  0.750575                       0.210452  \n",
       "std                   0.432682                       0.407631  \n",
       "min                   0.000000                       0.000000  \n",
       "25%                   1.000000                       0.000000  \n",
       "50%                   1.000000                       0.000000  \n",
       "75%                   1.000000                       0.000000  \n",
       "max                   1.000000                       1.000000  \n",
       "\n",
       "[8 rows x 53 columns]"
      ]
     },
     "execution_count": 4,
     "metadata": {},
     "output_type": "execute_result"
    }
   ],
   "source": [
    "bookings.describe()\n"
   ]
  },
  {
   "cell_type": "code",
   "execution_count": 5,
   "id": "ca95857d-dcc2-43bf-83ae-840da92727a0",
   "metadata": {},
   "outputs": [
    {
     "data": {
      "text/html": [
       "<div>\n",
       "<style scoped>\n",
       "    .dataframe tbody tr th:only-of-type {\n",
       "        vertical-align: middle;\n",
       "    }\n",
       "\n",
       "    .dataframe tbody tr th {\n",
       "        vertical-align: top;\n",
       "    }\n",
       "\n",
       "    .dataframe thead th {\n",
       "        text-align: right;\n",
       "    }\n",
       "</style>\n",
       "<table border=\"1\" class=\"dataframe\">\n",
       "  <thead>\n",
       "    <tr style=\"text-align: right;\">\n",
       "      <th></th>\n",
       "      <th>is_canceled</th>\n",
       "      <th>lead_time</th>\n",
       "      <th>arrival_date_week_number</th>\n",
       "      <th>arrival_date_day_of_month</th>\n",
       "      <th>arrival_date_month</th>\n",
       "      <th>stays_in_weekend_nights</th>\n",
       "      <th>stays_in_week_nights</th>\n",
       "      <th>adults</th>\n",
       "      <th>children</th>\n",
       "      <th>babies</th>\n",
       "      <th>...</th>\n",
       "      <th>reserved_room_type_G</th>\n",
       "      <th>reserved_room_type_H</th>\n",
       "      <th>reserved_room_type_L</th>\n",
       "      <th>deposit_type_No_Deposit</th>\n",
       "      <th>deposit_type_Non_Refund</th>\n",
       "      <th>deposit_type_Refundable</th>\n",
       "      <th>customer_type_Contract</th>\n",
       "      <th>customer_type_Group</th>\n",
       "      <th>customer_type_Transient</th>\n",
       "      <th>customer_type_Transient-Party</th>\n",
       "    </tr>\n",
       "  </thead>\n",
       "  <tbody>\n",
       "    <tr>\n",
       "      <th>0</th>\n",
       "      <td>0</td>\n",
       "      <td>342</td>\n",
       "      <td>27</td>\n",
       "      <td>1</td>\n",
       "      <td>7</td>\n",
       "      <td>0</td>\n",
       "      <td>0</td>\n",
       "      <td>2</td>\n",
       "      <td>0.0</td>\n",
       "      <td>0</td>\n",
       "      <td>...</td>\n",
       "      <td>0</td>\n",
       "      <td>0</td>\n",
       "      <td>0</td>\n",
       "      <td>1</td>\n",
       "      <td>0</td>\n",
       "      <td>0</td>\n",
       "      <td>0</td>\n",
       "      <td>0</td>\n",
       "      <td>1</td>\n",
       "      <td>0</td>\n",
       "    </tr>\n",
       "    <tr>\n",
       "      <th>1</th>\n",
       "      <td>0</td>\n",
       "      <td>737</td>\n",
       "      <td>27</td>\n",
       "      <td>1</td>\n",
       "      <td>7</td>\n",
       "      <td>0</td>\n",
       "      <td>0</td>\n",
       "      <td>2</td>\n",
       "      <td>0.0</td>\n",
       "      <td>0</td>\n",
       "      <td>...</td>\n",
       "      <td>0</td>\n",
       "      <td>0</td>\n",
       "      <td>0</td>\n",
       "      <td>1</td>\n",
       "      <td>0</td>\n",
       "      <td>0</td>\n",
       "      <td>0</td>\n",
       "      <td>0</td>\n",
       "      <td>1</td>\n",
       "      <td>0</td>\n",
       "    </tr>\n",
       "    <tr>\n",
       "      <th>2</th>\n",
       "      <td>0</td>\n",
       "      <td>7</td>\n",
       "      <td>27</td>\n",
       "      <td>1</td>\n",
       "      <td>7</td>\n",
       "      <td>0</td>\n",
       "      <td>1</td>\n",
       "      <td>1</td>\n",
       "      <td>0.0</td>\n",
       "      <td>0</td>\n",
       "      <td>...</td>\n",
       "      <td>0</td>\n",
       "      <td>0</td>\n",
       "      <td>0</td>\n",
       "      <td>1</td>\n",
       "      <td>0</td>\n",
       "      <td>0</td>\n",
       "      <td>0</td>\n",
       "      <td>0</td>\n",
       "      <td>1</td>\n",
       "      <td>0</td>\n",
       "    </tr>\n",
       "    <tr>\n",
       "      <th>3</th>\n",
       "      <td>0</td>\n",
       "      <td>13</td>\n",
       "      <td>27</td>\n",
       "      <td>1</td>\n",
       "      <td>7</td>\n",
       "      <td>0</td>\n",
       "      <td>1</td>\n",
       "      <td>1</td>\n",
       "      <td>0.0</td>\n",
       "      <td>0</td>\n",
       "      <td>...</td>\n",
       "      <td>0</td>\n",
       "      <td>0</td>\n",
       "      <td>0</td>\n",
       "      <td>1</td>\n",
       "      <td>0</td>\n",
       "      <td>0</td>\n",
       "      <td>0</td>\n",
       "      <td>0</td>\n",
       "      <td>1</td>\n",
       "      <td>0</td>\n",
       "    </tr>\n",
       "    <tr>\n",
       "      <th>4</th>\n",
       "      <td>0</td>\n",
       "      <td>14</td>\n",
       "      <td>27</td>\n",
       "      <td>1</td>\n",
       "      <td>7</td>\n",
       "      <td>0</td>\n",
       "      <td>2</td>\n",
       "      <td>2</td>\n",
       "      <td>0.0</td>\n",
       "      <td>0</td>\n",
       "      <td>...</td>\n",
       "      <td>0</td>\n",
       "      <td>0</td>\n",
       "      <td>0</td>\n",
       "      <td>1</td>\n",
       "      <td>0</td>\n",
       "      <td>0</td>\n",
       "      <td>0</td>\n",
       "      <td>0</td>\n",
       "      <td>1</td>\n",
       "      <td>0</td>\n",
       "    </tr>\n",
       "  </tbody>\n",
       "</table>\n",
       "<p>5 rows × 53 columns</p>\n",
       "</div>"
      ],
      "text/plain": [
       "   is_canceled  lead_time  arrival_date_week_number  \\\n",
       "0            0        342                        27   \n",
       "1            0        737                        27   \n",
       "2            0          7                        27   \n",
       "3            0         13                        27   \n",
       "4            0         14                        27   \n",
       "\n",
       "   arrival_date_day_of_month  arrival_date_month  stays_in_weekend_nights  \\\n",
       "0                          1                   7                        0   \n",
       "1                          1                   7                        0   \n",
       "2                          1                   7                        0   \n",
       "3                          1                   7                        0   \n",
       "4                          1                   7                        0   \n",
       "\n",
       "   stays_in_week_nights  adults  children  babies  ...  reserved_room_type_G  \\\n",
       "0                     0       2       0.0       0  ...                     0   \n",
       "1                     0       2       0.0       0  ...                     0   \n",
       "2                     1       1       0.0       0  ...                     0   \n",
       "3                     1       1       0.0       0  ...                     0   \n",
       "4                     2       2       0.0       0  ...                     0   \n",
       "\n",
       "   reserved_room_type_H  reserved_room_type_L  deposit_type_No_Deposit  \\\n",
       "0                     0                     0                        1   \n",
       "1                     0                     0                        1   \n",
       "2                     0                     0                        1   \n",
       "3                     0                     0                        1   \n",
       "4                     0                     0                        1   \n",
       "\n",
       "   deposit_type_Non_Refund  deposit_type_Refundable  customer_type_Contract  \\\n",
       "0                        0                        0                       0   \n",
       "1                        0                        0                       0   \n",
       "2                        0                        0                       0   \n",
       "3                        0                        0                       0   \n",
       "4                        0                        0                       0   \n",
       "\n",
       "   customer_type_Group  customer_type_Transient  customer_type_Transient-Party  \n",
       "0                    0                        1                              0  \n",
       "1                    0                        1                              0  \n",
       "2                    0                        1                              0  \n",
       "3                    0                        1                              0  \n",
       "4                    0                        1                              0  \n",
       "\n",
       "[5 rows x 53 columns]"
      ]
     },
     "execution_count": 5,
     "metadata": {},
     "output_type": "execute_result"
    }
   ],
   "source": [
    "bookings.head()"
   ]
  },
  {
   "cell_type": "code",
   "execution_count": 6,
   "id": "10f76d71",
   "metadata": {
    "colab": {
     "base_uri": "https://localhost:8080/",
     "height": 496
    },
    "colab_type": "code",
    "id": "z_ckvohjegrx",
    "outputId": "b6ee4097-15b4-459f-b3ef-9afe121c90d9",
    "scrolled": true
   },
   "outputs": [
    {
     "name": "stdout",
     "output_type": "stream",
     "text": [
      "0    75011\n",
      "1    44199\n",
      "Name: is_canceled, dtype: int64\n"
     ]
    }
   ],
   "source": [
    "# Plot cancellation counts to visualize proportion of not cancelled and cancelled\n",
    "print(bookings['is_canceled'].value_counts())"
   ]
  },
  {
   "cell_type": "code",
   "execution_count": 7,
   "id": "8dc121f8-a515-48bd-b77a-528a2f85010a",
   "metadata": {},
   "outputs": [
    {
     "name": "stdout",
     "output_type": "stream",
     "text": [
      "0    0.629234\n",
      "1    0.370766\n",
      "Name: is_canceled, dtype: float64\n"
     ]
    }
   ],
   "source": [
    "print(bookings['is_canceled'].value_counts(normalize=True))"
   ]
  },
  {
   "cell_type": "code",
   "execution_count": 8,
   "id": "36804ad0-8362-47aa-8db5-6a773e1013b9",
   "metadata": {},
   "outputs": [
    {
     "data": {
      "image/png": "[encoded data removed]",
      "text/plain": [
       "<Figure size 720x360 with 1 Axes>"
      ]
     },
     "metadata": {
      "needs_background": "light"
     },
     "output_type": "display_data"
    }
   ],
   "source": [
    "bookings['is_canceled'].value_counts(normalize=True).plot(kind='bar', edgecolor='black',\n",
    "                                                          linewidth=3, color=['r', 'g'],\n",
    "                                                          figsize=(10,5))\n",
    "plt.show()"
   ]
  },
  {
   "cell_type": "markdown",
   "id": "e84873a7",
   "metadata": {
    "colab_type": "text",
    "id": "Qzk8fFnFegr2"
   },
   "source": [
    "Remember for our binary variables, like `is_canceled`, `1` = true and `0` = false."
   ]
  },
  {
   "cell_type": "code",
   "execution_count": 9,
   "id": "3917535e",
   "metadata": {
    "colab": {
     "base_uri": "https://localhost:8080/",
     "height": 68
    },
    "colab_type": "code",
    "id": "fd6-3_wcegr3",
    "outputId": "2504d1c2-80c0-4ed8-e3d0-a0f9ebaf5256"
   },
   "outputs": [
    {
     "name": "stdout",
     "output_type": "stream",
     "text": [
      "Exact percentage - % - of not cancelled and cancelled\n",
      "0    62.9234\n",
      "1    37.0766\n",
      "Name: is_canceled, dtype: float64\n"
     ]
    }
   ],
   "source": [
    "# Get an exact percentage of not cancelled and cancelled\n",
    "print(\"Exact percentage - % - of not cancelled and cancelled\")\n",
    "print(round(bookings['is_canceled'].value_counts(normalize=True)*100, 4))"
   ]
  },
  {
   "cell_type": "markdown",
   "id": "0476957d",
   "metadata": {
    "colab_type": "text",
    "id": "Skna413fegsI"
   },
   "source": [
    "### **Splitting data**\n",
    "Let's split our label and features so we can get to building models! The first column is our target label `is_canceled`. The rest are features."
   ]
  },
  {
   "cell_type": "code",
   "execution_count": 10,
   "id": "9f67eec7",
   "metadata": {
    "colab": {},
    "colab_type": "code",
    "id": "yNORyt4JegsJ"
   },
   "outputs": [
    {
     "name": "stdout",
     "output_type": "stream",
     "text": [
      "0    0\n",
      "1    0\n",
      "2    0\n",
      "3    0\n",
      "4    0\n",
      "5    0\n",
      "6    0\n",
      "7    0\n",
      "8    1\n",
      "9    1\n",
      "Name: is_canceled, dtype: int64\n"
     ]
    },
    {
     "data": {
      "text/html": [
       "<div>\n",
       "<style scoped>\n",
       "    .dataframe tbody tr th:only-of-type {\n",
       "        vertical-align: middle;\n",
       "    }\n",
       "\n",
       "    .dataframe tbody tr th {\n",
       "        vertical-align: top;\n",
       "    }\n",
       "\n",
       "    .dataframe thead th {\n",
       "        text-align: right;\n",
       "    }\n",
       "</style>\n",
       "<table border=\"1\" class=\"dataframe\">\n",
       "  <thead>\n",
       "    <tr style=\"text-align: right;\">\n",
       "      <th></th>\n",
       "      <th>lead_time</th>\n",
       "      <th>arrival_date_week_number</th>\n",
       "      <th>arrival_date_day_of_month</th>\n",
       "      <th>arrival_date_month</th>\n",
       "      <th>stays_in_weekend_nights</th>\n",
       "      <th>stays_in_week_nights</th>\n",
       "      <th>adults</th>\n",
       "      <th>children</th>\n",
       "      <th>babies</th>\n",
       "      <th>is_repeated_guest</th>\n",
       "      <th>...</th>\n",
       "      <th>reserved_room_type_G</th>\n",
       "      <th>reserved_room_type_H</th>\n",
       "      <th>reserved_room_type_L</th>\n",
       "      <th>deposit_type_No_Deposit</th>\n",
       "      <th>deposit_type_Non_Refund</th>\n",
       "      <th>deposit_type_Refundable</th>\n",
       "      <th>customer_type_Contract</th>\n",
       "      <th>customer_type_Group</th>\n",
       "      <th>customer_type_Transient</th>\n",
       "      <th>customer_type_Transient-Party</th>\n",
       "    </tr>\n",
       "  </thead>\n",
       "  <tbody>\n",
       "    <tr>\n",
       "      <th>0</th>\n",
       "      <td>342</td>\n",
       "      <td>27</td>\n",
       "      <td>1</td>\n",
       "      <td>7</td>\n",
       "      <td>0</td>\n",
       "      <td>0</td>\n",
       "      <td>2</td>\n",
       "      <td>0.0</td>\n",
       "      <td>0</td>\n",
       "      <td>0</td>\n",
       "      <td>...</td>\n",
       "      <td>0</td>\n",
       "      <td>0</td>\n",
       "      <td>0</td>\n",
       "      <td>1</td>\n",
       "      <td>0</td>\n",
       "      <td>0</td>\n",
       "      <td>0</td>\n",
       "      <td>0</td>\n",
       "      <td>1</td>\n",
       "      <td>0</td>\n",
       "    </tr>\n",
       "    <tr>\n",
       "      <th>1</th>\n",
       "      <td>737</td>\n",
       "      <td>27</td>\n",
       "      <td>1</td>\n",
       "      <td>7</td>\n",
       "      <td>0</td>\n",
       "      <td>0</td>\n",
       "      <td>2</td>\n",
       "      <td>0.0</td>\n",
       "      <td>0</td>\n",
       "      <td>0</td>\n",
       "      <td>...</td>\n",
       "      <td>0</td>\n",
       "      <td>0</td>\n",
       "      <td>0</td>\n",
       "      <td>1</td>\n",
       "      <td>0</td>\n",
       "      <td>0</td>\n",
       "      <td>0</td>\n",
       "      <td>0</td>\n",
       "      <td>1</td>\n",
       "      <td>0</td>\n",
       "    </tr>\n",
       "  </tbody>\n",
       "</table>\n",
       "<p>2 rows × 52 columns</p>\n",
       "</div>"
      ],
      "text/plain": [
       "   lead_time  arrival_date_week_number  arrival_date_day_of_month  \\\n",
       "0        342                        27                          1   \n",
       "1        737                        27                          1   \n",
       "\n",
       "   arrival_date_month  stays_in_weekend_nights  stays_in_week_nights  adults  \\\n",
       "0                   7                        0                     0       2   \n",
       "1                   7                        0                     0       2   \n",
       "\n",
       "   children  babies  is_repeated_guest  ...  reserved_room_type_G  \\\n",
       "0       0.0       0                  0  ...                     0   \n",
       "1       0.0       0                  0  ...                     0   \n",
       "\n",
       "   reserved_room_type_H  reserved_room_type_L  deposit_type_No_Deposit  \\\n",
       "0                     0                     0                        1   \n",
       "1                     0                     0                        1   \n",
       "\n",
       "   deposit_type_Non_Refund  deposit_type_Refundable  customer_type_Contract  \\\n",
       "0                        0                        0                       0   \n",
       "1                        0                        0                       0   \n",
       "\n",
       "   customer_type_Group  customer_type_Transient  customer_type_Transient-Party  \n",
       "0                    0                        1                              0  \n",
       "1                    0                        1                              0  \n",
       "\n",
       "[2 rows x 52 columns]"
      ]
     },
     "execution_count": 10,
     "metadata": {},
     "output_type": "execute_result"
    }
   ],
   "source": [
    "# Define X and y\n",
    "y = bookings.loc[:, 'is_canceled']\n",
    "print(y[:10])\n",
    "\n",
    "X = bookings.drop(labels=['is_canceled'], axis=1)\n",
    "X[:2]"
   ]
  },
  {
   "cell_type": "code",
   "execution_count": 11,
   "id": "8744213f-3e93-4dad-a83a-33e6be0fc81b",
   "metadata": {},
   "outputs": [],
   "source": [
    "y_gridsearch = y.copy()\n",
    "X_gridsearch = X.copy()"
   ]
  },
  {
   "cell_type": "markdown",
   "id": "a61c0cce",
   "metadata": {
    "colab_type": "text",
    "id": "W9m1kfpxegsL",
    "tags": []
   },
   "source": [
    "## **2. Your First XGBoost Classifier**\n",
    "\n",
    "XGBoost has a  [scikit-learn API](https://xgboost.readthedocs.io/en/latest/python/python_api.html#module-xgboost.sklearn), which is useful if you want to use different scikit-learn classes and methods on an XGBoost model (e.g.,`predict()`, `fit()`).  In this section, we'll try the API out with the `xgboost.XGBClassifier()` class and get a baseline accuracy for the rest of our work. So that our results are reproducible, we'll set the `random_state=123`.\n",
    "\n",
    "As a reminder, gradient boosting sequentially trains weak learners where each weak learner tries to correct its predecessor's mistakes. First, we'll instantiate a simple XGBoost classifier without changing any of the other parameters, and we'll inspect the parameters that we haven't touched."
   ]
  },
  {
   "cell_type": "code",
   "execution_count": 12,
   "id": "b129117a",
   "metadata": {
    "colab": {
     "base_uri": "https://localhost:8080/",
     "height": 408
    },
    "colab_type": "code",
    "id": "8zMyC5qkegsM",
    "outputId": "f51c4b33-9c7f-4ee2-f54e-b31ce36ec3bf"
   },
   "outputs": [
    {
     "name": "stdout",
     "output_type": "stream",
     "text": [
      "(89407, 52)\n",
      "(89407,)\n"
     ]
    },
    {
     "data": {
      "text/plain": [
       "XGBClassifier(alpha=10, base_score=None, booster=None, colsample_bylevel=None,\n",
       "              colsample_bynode=None, colsample_bytree=0.35, gamma=None,\n",
       "              gpu_id=None, importance_type='gain', interaction_constraints=None,\n",
       "              learning_rate=0.01, max_delta_step=None, max_depth=6,\n",
       "              min_child_weight=None, missing=nan, monotone_constraints=None,\n",
       "              n_estimators=15, n_jobs=None, num_parallel_tree=None,\n",
       "              random_state=None, reg_alpha=None, reg_lambda=None,\n",
       "              scale_pos_weight=None, subsample=None, tree_method=None,\n",
       "              validate_parameters=None, verbosity=None)"
      ]
     },
     "execution_count": 12,
     "metadata": {},
     "output_type": "execute_result"
    }
   ],
   "source": [
    "from sklearn.model_selection import train_test_split\n",
    "\n",
    "# Train and test split using sklearn\n",
    "X_train, X_test, y_train, y_test = \\\n",
    "train_test_split(X,y, random_state=43, test_size=0.25)\n",
    "print(X_train.shape)\n",
    "print(y_train.shape)\n",
    "\n",
    "# Instatiate a XGBClassifier \n",
    "bookings_xgb_clf = \\\n",
    "xgb.XGBClassifier(objective='binary:logistic', colsample_bytree=0.35, learning_rate=0.01,\n",
    "                 max_depth=6, alpha = 10, n_estimators = 15)\n",
    "\n",
    "# Inspect the parameters\n",
    "bookings_xgb_clf"
   ]
  },
  {
   "cell_type": "markdown",
   "id": "4ad053fa",
   "metadata": {
    "colab_type": "text",
    "id": "Z3akjIVVegsP"
   },
   "source": [
    "There's a couple of things to note:\n",
    "- The `booster` parameter is `gbtree`.  This means the weak learners, or boosters, are decision trees in this model. `gbtree` is the default, and we will keep it this way.\n",
    "- The `objective` function, or loss function, is defined as `binary:logistic`. The objective function quantifies how far off a prediction is from the actual results. We want to minimize this to have the smallest possible loss. `binary:logistic` is the default for classifiers. `binary:logistic` outputs the actual predicted probability of the positive class (in our case, that a booking is cancelled).\n",
    "- `n_estimators` is the number of gradient boosted trees we want in our model. It's equivalent to the number of boosting rounds. For our purposes, we don't want too many boosting rounds, or training will take too long. **Let's lower it from 100 to 10**.\n",
    "\n",
    "<p align=\"center\">\n",
    "<img src=\"https://github.com/datacamp/Machine-Learning-With-XGboost-live-training/blob/master/assets/n_estimators.png?raw=true\" width = \"70%\"> \n",
    "</p>\n",
    "\n",
    "<br>\n",
    "\n",
    "- `max_depth` is the maximum tree depth allowed. Tree depth is the length of the longest path from the root node to a leaf node. Making this too high will give our model more variance, or more potential to overfit. Similar to `n_estimators`, the more we increase this, the longer our training period will be. **Let's keep this at 3**.\n",
    "\n",
    "\n",
    "<p align=\"center\">\n",
    "<img src=\"https://github.com/datacamp/Machine-Learning-With-XGboost-live-training/blob/master/assets/max_depth.png?raw=true\" width = \"25%\"> \n",
    "</p>\n",
    "\n",
    "- For our `eval_metric` (evaluation metric for validation data), we will use `error` as defined by [XGBoost documentation](https://xgboost.readthedocs.io/en/latest/parameter.html):\n",
    "\n",
    "> Binary classification error rate. It is calculated as #(wrong cases)/#(all cases). For the predictions, the evaluation will regard the instances with prediction value larger than 0.5 as positive instances, and the others as negative instances."
   ]
  },
  {
   "cell_type": "code",
   "execution_count": 13,
   "id": "fbab3132",
   "metadata": {
    "colab": {},
    "colab_type": "code",
    "id": "fcHSOw6FegsP"
   },
   "outputs": [],
   "source": [
    "## Set n_estimators to 10 \n",
    "n_estimators = 10 \n",
    "\n",
    "## Set max_depth to 3\n",
    "max_depth = 3\n",
    "\n",
    "# Set the evaluation metric to error\n",
    "eval_metric = 'logloss'\n",
    "\n",
    "# Instatiate a XGBClassifier \n",
    "bookings_xgb_clf_2 = \\\n",
    "xgb.XGBClassifier(objective='binary:logistic', colsample_bytree=0.35, learning_rate=0.01,\n",
    "                 max_depth=max_depth, alpha = 10, n_estimators = n_estimators, \n",
    "                 eval_metric='error'\n",
    "                 )\n",
    "\n",
    "# Fit it to the training set\n",
    "bookings_xgb_clf_2.fit(X_train, y_train)\n",
    "\n",
    "# Predict the labels of the test set\n",
    "preds_2 = bookings_xgb_clf_2.predict(X_test)"
   ]
  },
  {
   "cell_type": "code",
   "execution_count": 14,
   "id": "d98173e6-ab7f-404e-83ec-937c00905bdf",
   "metadata": {},
   "outputs": [
    {
     "name": "stdout",
     "output_type": "stream",
     "text": [
      "<class 'numpy.ndarray'>\n",
      "(29803,)\n",
      "[0 0 1 0 1 1 1 1 0 0 0 0 1 0 0]\n"
     ]
    }
   ],
   "source": [
    "print(type(preds_2))\n",
    "print(preds_2.shape)\n",
    "print(preds_2[:15])\n"
   ]
  },
  {
   "cell_type": "code",
   "execution_count": 15,
   "id": "0c2acc9a-8f97-46ef-8994-735528b98f2b",
   "metadata": {},
   "outputs": [
    {
     "name": "stdout",
     "output_type": "stream",
     "text": [
      "96298    0\n",
      "88654    0\n",
      "51468    1\n",
      "5193     0\n",
      "49741    1\n",
      "Name: is_canceled, dtype: int64\n",
      "72300     1\n",
      "25818     0\n",
      "116068    0\n",
      "59564     1\n",
      "5025      0\n",
      "Name: is_canceled, dtype: int64\n"
     ]
    }
   ],
   "source": [
    "print(y_test[:5])\n",
    "print(y_train[:5])"
   ]
  },
  {
   "cell_type": "code",
   "execution_count": 16,
   "id": "92ec9b29-f273-417a-9daf-725c1f0d1df4",
   "metadata": {},
   "outputs": [
    {
     "name": "stdout",
     "output_type": "stream",
     "text": [
      "(29803,)\n",
      "(89407,)\n"
     ]
    }
   ],
   "source": [
    "print(y_test.shape)\n",
    "print(y_train.shape)"
   ]
  },
  {
   "cell_type": "code",
   "execution_count": 17,
   "id": "3ee2a039-5ed5-4438-b5b7-c12758515d68",
   "metadata": {},
   "outputs": [
    {
     "data": {
      "text/html": [
       "<div>\n",
       "<style scoped>\n",
       "    .dataframe tbody tr th:only-of-type {\n",
       "        vertical-align: middle;\n",
       "    }\n",
       "\n",
       "    .dataframe tbody tr th {\n",
       "        vertical-align: top;\n",
       "    }\n",
       "\n",
       "    .dataframe thead th {\n",
       "        text-align: right;\n",
       "    }\n",
       "</style>\n",
       "<table border=\"1\" class=\"dataframe\">\n",
       "  <thead>\n",
       "    <tr style=\"text-align: right;\">\n",
       "      <th></th>\n",
       "      <th>y_test</th>\n",
       "      <th>pred_2</th>\n",
       "    </tr>\n",
       "  </thead>\n",
       "  <tbody>\n",
       "    <tr>\n",
       "      <th>0</th>\n",
       "      <td>0</td>\n",
       "      <td>0</td>\n",
       "    </tr>\n",
       "    <tr>\n",
       "      <th>1</th>\n",
       "      <td>0</td>\n",
       "      <td>0</td>\n",
       "    </tr>\n",
       "    <tr>\n",
       "      <th>2</th>\n",
       "      <td>1</td>\n",
       "      <td>1</td>\n",
       "    </tr>\n",
       "    <tr>\n",
       "      <th>3</th>\n",
       "      <td>0</td>\n",
       "      <td>0</td>\n",
       "    </tr>\n",
       "    <tr>\n",
       "      <th>4</th>\n",
       "      <td>1</td>\n",
       "      <td>1</td>\n",
       "    </tr>\n",
       "  </tbody>\n",
       "</table>\n",
       "</div>"
      ],
      "text/plain": [
       "   y_test  pred_2\n",
       "0       0       0\n",
       "1       0       0\n",
       "2       1       1\n",
       "3       0       0\n",
       "4       1       1"
      ]
     },
     "execution_count": 17,
     "metadata": {},
     "output_type": "execute_result"
    }
   ],
   "source": [
    "pred_2_df = \\\n",
    "pd.DataFrame(zip(y_test, preds_2), columns=['y_test', 'pred_2'])\n",
    "\n",
    "pred_2_df.head()"
   ]
  },
  {
   "cell_type": "markdown",
   "id": "72ccc604-5b7c-4d5e-bc71-24592e67edf7",
   "metadata": {},
   "source": [
    "#### Is y-test correctly predicted?\n"
   ]
  },
  {
   "cell_type": "code",
   "execution_count": 18,
   "id": "16f0f091-4761-4ef1-9c79-8bd841ca4edb",
   "metadata": {},
   "outputs": [],
   "source": [
    "def correct_predictions(row, pred):\n",
    "    if row['y_test'] == row[pred]:\n",
    "        value = 1\n",
    "    else:\n",
    "        value = 0\n",
    "    return value"
   ]
  },
  {
   "cell_type": "code",
   "execution_count": 19,
   "id": "376b4e87-930e-4ca2-b4da-dbacae1d21b4",
   "metadata": {},
   "outputs": [
    {
     "data": {
      "text/html": [
       "<div>\n",
       "<style scoped>\n",
       "    .dataframe tbody tr th:only-of-type {\n",
       "        vertical-align: middle;\n",
       "    }\n",
       "\n",
       "    .dataframe tbody tr th {\n",
       "        vertical-align: top;\n",
       "    }\n",
       "\n",
       "    .dataframe thead th {\n",
       "        text-align: right;\n",
       "    }\n",
       "</style>\n",
       "<table border=\"1\" class=\"dataframe\">\n",
       "  <thead>\n",
       "    <tr style=\"text-align: right;\">\n",
       "      <th></th>\n",
       "      <th>y_test</th>\n",
       "      <th>pred_2</th>\n",
       "      <th>Correctly predicted?</th>\n",
       "    </tr>\n",
       "  </thead>\n",
       "  <tbody>\n",
       "    <tr>\n",
       "      <th>0</th>\n",
       "      <td>0</td>\n",
       "      <td>0</td>\n",
       "      <td>1</td>\n",
       "    </tr>\n",
       "    <tr>\n",
       "      <th>1</th>\n",
       "      <td>0</td>\n",
       "      <td>0</td>\n",
       "      <td>1</td>\n",
       "    </tr>\n",
       "    <tr>\n",
       "      <th>2</th>\n",
       "      <td>1</td>\n",
       "      <td>1</td>\n",
       "      <td>1</td>\n",
       "    </tr>\n",
       "    <tr>\n",
       "      <th>3</th>\n",
       "      <td>0</td>\n",
       "      <td>0</td>\n",
       "      <td>1</td>\n",
       "    </tr>\n",
       "    <tr>\n",
       "      <th>4</th>\n",
       "      <td>1</td>\n",
       "      <td>1</td>\n",
       "      <td>1</td>\n",
       "    </tr>\n",
       "  </tbody>\n",
       "</table>\n",
       "</div>"
      ],
      "text/plain": [
       "   y_test  pred_2  Correctly predicted?\n",
       "0       0       0                     1\n",
       "1       0       0                     1\n",
       "2       1       1                     1\n",
       "3       0       0                     1\n",
       "4       1       1                     1"
      ]
     },
     "execution_count": 19,
     "metadata": {},
     "output_type": "execute_result"
    }
   ],
   "source": [
    "pred_2_df['Correctly predicted?'] = \\\n",
    "pred_2_df.apply(correct_predictions, args=['pred_2'],  axis=1)\n",
    "\n",
    "pred_2_df.head()"
   ]
  },
  {
   "cell_type": "code",
   "execution_count": 20,
   "id": "04bf239a-6247-493a-9d40-e9f6f22c787b",
   "metadata": {},
   "outputs": [
    {
     "data": {
      "text/plain": [
       "1    22842\n",
       "0     6961\n",
       "Name: Correctly predicted?, dtype: int64"
      ]
     },
     "execution_count": 20,
     "metadata": {},
     "output_type": "execute_result"
    }
   ],
   "source": [
    "pred_2_df['Correctly predicted?'].value_counts()"
   ]
  },
  {
   "cell_type": "code",
   "execution_count": 21,
   "id": "025aa662-15e2-48a0-85af-6228c7f6c5a3",
   "metadata": {},
   "outputs": [
    {
     "data": {
      "text/plain": [
       "1    77.0\n",
       "0    23.0\n",
       "Name: Correctly predicted?, dtype: float64"
      ]
     },
     "execution_count": 21,
     "metadata": {},
     "output_type": "execute_result"
    }
   ],
   "source": [
    "round(pred_2_df['Correctly predicted?'].value_counts(normalize=True)*100)"
   ]
  },
  {
   "cell_type": "markdown",
   "id": "2fc2a6a5-fb31-4708-adf3-a6036e6da109",
   "metadata": {},
   "source": [
    "<p>Correctly prediced are 77 percent.<br>\n",
    "This is above random predictions of 50%.\n",
    "</p>"
   ]
  },
  {
   "cell_type": "code",
   "execution_count": 22,
   "id": "81e27d8a-9d4e-455a-858a-359dfdc32cc0",
   "metadata": {},
   "outputs": [
    {
     "name": "stdout",
     "output_type": "stream",
     "text": [
      "Accuracy based on correctly predicted col of df is 0.7664\n"
     ]
    }
   ],
   "source": [
    "accuracy_byhand = round(pred_2_df['Correctly predicted?'].sum() / pred_2_df.shape[0],4)\n",
    "\n",
    "print(f'Accuracy based on correctly predicted col of df is {accuracy_byhand}')"
   ]
  },
  {
   "cell_type": "markdown",
   "id": "44124762",
   "metadata": {
    "colab_type": "text",
    "id": "0RkrUrV5egsS"
   },
   "source": [
    "We are going to use **accuracy** as our metric for this problem since we only have two classes, and the smallest class takes ~37% of the data. To calculate accuracy, we need to count the correctly predicted data points and divide it by the total number of data points."
   ]
  },
  {
   "cell_type": "code",
   "execution_count": 23,
   "id": "9d18d2af",
   "metadata": {
    "colab": {
     "base_uri": "https://localhost:8080/",
     "height": 34
    },
    "colab_type": "code",
    "id": "FPqq2x7fegsT",
    "outputId": "0269d675-21dd-48e8-d8ed-d47551710604"
   },
   "outputs": [
    {
     "name": "stdout",
     "output_type": "stream",
     "text": [
      "0.7664329094386472\n"
     ]
    }
   ],
   "source": [
    "# Calculate the accuracy\n",
    "acc_1 = accuracy_score(y_test, preds_2, normalize=True, sample_weight=None)\n",
    "\n",
    "# Print the baseline accuracy\n",
    "print(acc_1)"
   ]
  },
  {
   "cell_type": "markdown",
   "id": "7c73ad64-3991-43ad-b334-edb7667df6be",
   "metadata": {},
   "source": [
    "#### Creating a base learner using DMatrix with the XGBoost Learning API\n",
    "\n",
    "<p>\n",
    "Data Matrix used in XGBoost.<br>\n",
    "DMatrix is an internal data structure that is used by XGBoost, which is optimized for both memory efficiency and training speed. You can construct DMatrix from multiple different sources of data.<br>\n",
    "<a href=\"https://xgboost.readthedocs.io/en/latest/python/python_api.html#module-xgboost.core\" target=\"_blank\">xgboost.readthedocs</a> \n",
    "</p>"
   ]
  },
  {
   "cell_type": "code",
   "execution_count": 24,
   "id": "6398cfa5-8710-4770-bd3c-9d27755dd9b5",
   "metadata": {},
   "outputs": [
    {
     "name": "stdout",
     "output_type": "stream",
     "text": [
      "[0. 0. 1. ... 0. 0. 1.]\n"
     ]
    },
    {
     "data": {
      "text/plain": [
       "array([0., 0., 1., ..., 0., 0., 1.], dtype=float32)"
      ]
     },
     "execution_count": 24,
     "metadata": {},
     "output_type": "execute_result"
    }
   ],
   "source": [
    "book_DM_train = xgb.DMatrix(data=X_train, label=y_train)\n",
    "book_DM_test = xgb.DMatrix(data=X_test, label=y_test)\n",
    "\n",
    "\n",
    "# binary:hinge: hinge loss for binary classification. \n",
    "# This makes predictions of 0 or 1, rather than producing probabilities.\n",
    "params_DM={'booster':'gbtree', 'max_depth': 2, 'eta': 1, 'objective': 'binary:hinge'}\n",
    "\n",
    "\n",
    "book_tree = xgb.train(params=params_DM, dtrain=book_DM_train, num_boost_round=10)\n",
    "\n",
    "book_DM_test_labels = book_DM_test.get_label()\n",
    "print(book_DM_test_labels)\n",
    "\n",
    "book_tree_preds = book_tree.predict(book_DM_test, output_margin=False,  ntree_limit=10)\n",
    "book_tree_preds\n"
   ]
  },
  {
   "cell_type": "code",
   "execution_count": 25,
   "id": "4bd724c8-7cf5-4fa6-a3c3-6866d515b8fe",
   "metadata": {},
   "outputs": [
    {
     "data": {
      "text/plain": [
       "['bookings_xgb_clf_2.sav']"
      ]
     },
     "execution_count": 25,
     "metadata": {},
     "output_type": "execute_result"
    }
   ],
   "source": [
    "joblib.dump(bookings_xgb_clf_2 , 'bookings_xgb_clf_2.sav')"
   ]
  },
  {
   "cell_type": "markdown",
   "id": "41a7fb37-7430-48ef-9cbf-6f18061b914b",
   "metadata": {
    "tags": []
   },
   "source": [
    "#### DMatrix properties"
   ]
  },
  {
   "cell_type": "code",
   "execution_count": 26,
   "id": "224b3c1e-d1d4-4bfd-b187-ba436e0bb754",
   "metadata": {},
   "outputs": [
    {
     "data": {
      "text/plain": [
       "['lead_time',\n",
       " 'arrival_date_week_number',\n",
       " 'arrival_date_day_of_month',\n",
       " 'arrival_date_month']"
      ]
     },
     "execution_count": 26,
     "metadata": {},
     "output_type": "execute_result"
    }
   ],
   "source": [
    "book_DM_train.feature_names[:4]"
   ]
  },
  {
   "cell_type": "code",
   "execution_count": 27,
   "id": "63de2e47-95bc-41f4-90cd-77ade7924e8f",
   "metadata": {},
   "outputs": [
    {
     "data": {
      "text/plain": [
       "['int', 'int', 'int', 'int']"
      ]
     },
     "execution_count": 27,
     "metadata": {},
     "output_type": "execute_result"
    }
   ],
   "source": [
    "book_DM_train.feature_types[:4]"
   ]
  },
  {
   "cell_type": "code",
   "execution_count": 28,
   "id": "80f973d8-cb72-48d6-9cb1-e9f880c82309",
   "metadata": {},
   "outputs": [
    {
     "name": "stdout",
     "output_type": "stream",
     "text": [
      "[]\n",
      "[1. 0. 0. ... 0. 0. 0.]\n",
      "[]\n",
      "52\n",
      "89407\n"
     ]
    }
   ],
   "source": [
    "print(book_DM_train.get_base_margin())\n",
    "print(book_DM_train.get_label())\n",
    "print(book_DM_train.get_weight())\n",
    "print(book_DM_train.num_col())\n",
    "print(book_DM_train.num_row())"
   ]
  },
  {
   "cell_type": "code",
   "execution_count": 29,
   "id": "54bd3ea9-8a51-4a95-a979-b0180b33da38",
   "metadata": {},
   "outputs": [
    {
     "data": {
      "text/plain": [
       "[10, 11, 12, 13, 14, 15, 16, 17, 18, 19, 20]"
      ]
     },
     "execution_count": 29,
     "metadata": {},
     "output_type": "execute_result"
    }
   ],
   "source": [
    "list(np.arange(10,21,1))"
   ]
  },
  {
   "cell_type": "code",
   "execution_count": 30,
   "id": "885feb36-b4e8-4a2e-bb40-0b2c584c2d82",
   "metadata": {},
   "outputs": [
    {
     "name": "stdout",
     "output_type": "stream",
     "text": [
      "52\n",
      "11\n"
     ]
    }
   ],
   "source": [
    "book_DM_train_sliced = book_DM_train.slice(list(np.arange(10,21,1)))\n",
    "\n",
    "print(book_DM_train_sliced.num_col())\n",
    "print(book_DM_train_sliced.num_row())"
   ]
  },
  {
   "cell_type": "code",
   "execution_count": 31,
   "id": "f27825f3-823e-444b-bca4-39fe2eed9106",
   "metadata": {},
   "outputs": [
    {
     "name": "stdout",
     "output_type": "stream",
     "text": [
      "(29803, 3)\n"
     ]
    },
    {
     "data": {
      "text/html": [
       "<div>\n",
       "<style scoped>\n",
       "    .dataframe tbody tr th:only-of-type {\n",
       "        vertical-align: middle;\n",
       "    }\n",
       "\n",
       "    .dataframe tbody tr th {\n",
       "        vertical-align: top;\n",
       "    }\n",
       "\n",
       "    .dataframe thead th {\n",
       "        text-align: right;\n",
       "    }\n",
       "</style>\n",
       "<table border=\"1\" class=\"dataframe\">\n",
       "  <thead>\n",
       "    <tr style=\"text-align: right;\">\n",
       "      <th></th>\n",
       "      <th>y_test</th>\n",
       "      <th>book_tree_preds</th>\n",
       "      <th>congruity</th>\n",
       "    </tr>\n",
       "  </thead>\n",
       "  <tbody>\n",
       "    <tr>\n",
       "      <th>0</th>\n",
       "      <td>0</td>\n",
       "      <td>0.0</td>\n",
       "      <td>1</td>\n",
       "    </tr>\n",
       "    <tr>\n",
       "      <th>1</th>\n",
       "      <td>0</td>\n",
       "      <td>0.0</td>\n",
       "      <td>1</td>\n",
       "    </tr>\n",
       "    <tr>\n",
       "      <th>2</th>\n",
       "      <td>1</td>\n",
       "      <td>1.0</td>\n",
       "      <td>1</td>\n",
       "    </tr>\n",
       "    <tr>\n",
       "      <th>3</th>\n",
       "      <td>0</td>\n",
       "      <td>0.0</td>\n",
       "      <td>1</td>\n",
       "    </tr>\n",
       "    <tr>\n",
       "      <th>4</th>\n",
       "      <td>1</td>\n",
       "      <td>1.0</td>\n",
       "      <td>1</td>\n",
       "    </tr>\n",
       "  </tbody>\n",
       "</table>\n",
       "</div>"
      ],
      "text/plain": [
       "   y_test  book_tree_preds  congruity\n",
       "0       0              0.0          1\n",
       "1       0              0.0          1\n",
       "2       1              1.0          1\n",
       "3       0              0.0          1\n",
       "4       1              1.0          1"
      ]
     },
     "execution_count": 31,
     "metadata": {},
     "output_type": "execute_result"
    }
   ],
   "source": [
    "book_tree_preds_df = \\\n",
    "pd.DataFrame(zip(y_test, book_tree_preds), columns=['y_test', 'book_tree_preds'])\n",
    "\n",
    "book_tree_preds_df['congruity'] = \\\n",
    "book_tree_preds_df.apply(lambda row: 1 if row['y_test'] == row['book_tree_preds'] else 0, axis=1)\n",
    "\n",
    "print(book_tree_preds_df.shape)\n",
    "book_tree_preds_df.head()"
   ]
  },
  {
   "cell_type": "code",
   "execution_count": 32,
   "id": "5bef0640-33fc-4f65-ba4e-cdb649641383",
   "metadata": {},
   "outputs": [
    {
     "data": {
      "text/html": [
       "<div>\n",
       "<style scoped>\n",
       "    .dataframe tbody tr th:only-of-type {\n",
       "        vertical-align: middle;\n",
       "    }\n",
       "\n",
       "    .dataframe tbody tr th {\n",
       "        vertical-align: top;\n",
       "    }\n",
       "\n",
       "    .dataframe thead th {\n",
       "        text-align: right;\n",
       "    }\n",
       "</style>\n",
       "<table border=\"1\" class=\"dataframe\">\n",
       "  <thead>\n",
       "    <tr style=\"text-align: right;\">\n",
       "      <th></th>\n",
       "      <th>y_test</th>\n",
       "      <th>book_tree_preds</th>\n",
       "      <th>congruity</th>\n",
       "    </tr>\n",
       "  </thead>\n",
       "  <tbody>\n",
       "    <tr>\n",
       "      <th>29798</th>\n",
       "      <td>1</td>\n",
       "      <td>0.0</td>\n",
       "      <td>0</td>\n",
       "    </tr>\n",
       "    <tr>\n",
       "      <th>29799</th>\n",
       "      <td>1</td>\n",
       "      <td>0.0</td>\n",
       "      <td>0</td>\n",
       "    </tr>\n",
       "    <tr>\n",
       "      <th>29800</th>\n",
       "      <td>0</td>\n",
       "      <td>0.0</td>\n",
       "      <td>1</td>\n",
       "    </tr>\n",
       "    <tr>\n",
       "      <th>29801</th>\n",
       "      <td>0</td>\n",
       "      <td>0.0</td>\n",
       "      <td>1</td>\n",
       "    </tr>\n",
       "    <tr>\n",
       "      <th>29802</th>\n",
       "      <td>1</td>\n",
       "      <td>1.0</td>\n",
       "      <td>1</td>\n",
       "    </tr>\n",
       "  </tbody>\n",
       "</table>\n",
       "</div>"
      ],
      "text/plain": [
       "       y_test  book_tree_preds  congruity\n",
       "29798       1              0.0          0\n",
       "29799       1              0.0          0\n",
       "29800       0              0.0          1\n",
       "29801       0              0.0          1\n",
       "29802       1              1.0          1"
      ]
     },
     "execution_count": 32,
     "metadata": {},
     "output_type": "execute_result"
    }
   ],
   "source": [
    "book_tree_preds_df.tail()"
   ]
  },
  {
   "cell_type": "code",
   "execution_count": 33,
   "id": "e5a2f0a8-ef17-498b-a2ba-2b2ac510a795",
   "metadata": {},
   "outputs": [
    {
     "name": "stdout",
     "output_type": "stream",
     "text": [
      "0    18738\n",
      "1    11065\n",
      "Name: y_test, dtype: int64\n",
      "0.0    25622\n",
      "1.0     4181\n",
      "Name: book_tree_preds, dtype: int64\n",
      "1    22839\n",
      "0     6964\n",
      "Name: congruity, dtype: int64\n"
     ]
    }
   ],
   "source": [
    "for i in book_tree_preds_df:\n",
    "    print(book_tree_preds_df[i].value_counts())"
   ]
  },
  {
   "cell_type": "code",
   "execution_count": 34,
   "id": "e225dce5-771a-49f1-a63a-b25da9f0799c",
   "metadata": {},
   "outputs": [
    {
     "data": {
      "image/png": "[encoded data removed]",
      "text/plain": [
       "<Figure size 432x288 with 1 Axes>"
      ]
     },
     "metadata": {
      "needs_background": "light"
     },
     "output_type": "display_data"
    }
   ],
   "source": [
    "book_tree_preds_df.iloc[:,2].value_counts().plot(kind='bar', color=['coral', 'springgreen'],\n",
    "                                                 edgecolor='mediumaquamarine', linewidth=4,\n",
    "                                                 title=\"Correct predictions 1\")\n",
    "plt.show()"
   ]
  },
  {
   "cell_type": "code",
   "execution_count": 35,
   "id": "16441c85-f617-40e7-957f-273cb3b4121d",
   "metadata": {},
   "outputs": [
    {
     "data": {
      "text/plain": [
       "0.7663322484313659"
      ]
     },
     "execution_count": 35,
     "metadata": {},
     "output_type": "execute_result"
    }
   ],
   "source": [
    "acc_dmatrix = accuracy_score(y_test, book_tree_preds)\n",
    "acc_dmatrix"
   ]
  },
  {
   "cell_type": "markdown",
   "id": "4f8e9c6a",
   "metadata": {
    "colab_type": "text",
    "id": "nvfTM4FBegsW"
   },
   "source": [
    "### **Visualizing your tree**\n",
    "\n",
    "`XGBoost` has two handy visualization functions for interpreting results.\n",
    "\n",
    "The first is `plot_importance()`  which plots feature importance, meaning, how predictive each feature is for the target variable. It takes in the fitted XGBoost model.\n",
    "\n",
    "\n",
    "#### **Plotting feature importance**"
   ]
  },
  {
   "cell_type": "code",
   "execution_count": 36,
   "id": "42213238",
   "metadata": {
    "colab": {
     "base_uri": "https://localhost:8080/",
     "height": 530
    },
    "colab_type": "code",
    "id": "MkPtO3AHegsX",
    "outputId": "93fe3f79-307a-4b84-913d-58d230be3405"
   },
   "outputs": [
    {
     "data": {
      "image/png": "[encoded data removed]",
      "text/plain": [
       "<Figure size 720x576 with 1 Axes>"
      ]
     },
     "metadata": {
      "needs_background": "light"
     },
     "output_type": "display_data"
    }
   ],
   "source": [
    "import matplotlib\n",
    "matplotlib.rcParams['figure.figsize'] = (10.0, 8)\n",
    "\n",
    "# Plot feature importance\n",
    "# ”weight” is the number of times a feature appears in a tree\n",
    "xgb.plot_importance(bookings_xgb_clf_2, importance_type='weight')\n",
    "plt.show()"
   ]
  },
  {
   "cell_type": "markdown",
   "id": "9bdd062a",
   "metadata": {
    "colab_type": "text",
    "id": "iBbBCvs5egsa"
   },
   "source": [
    "How is importance calculated? Here's an excerpt from the [documentation](https://xgboost.readthedocs.io/en/latest/python/python_api.html#module-xgboost.plotting):\n",
    "\n",
    "> **importance_type (str, default \"weight\") –**\n",
    "> How the importance is calculated: either “weight”, “gain”, or “cover”\n",
    "> - ”weight” is the number of times a feature appears in a tree\n",
    "> - ”gain” is the average gain of splits which use the feature\n",
    "> - ”cover” is the average coverage of splits which use the feature where coverage is defined as the number of samples affected by the split\n",
    "\n",
    "We'll focus on the first two. Gain is a way to quantify how much a feature contributes to improving accuracy. Let's try out `gain` to see how it differs from `weight`."
   ]
  },
  {
   "cell_type": "code",
   "execution_count": 37,
   "id": "4d7a7b4e",
   "metadata": {
    "colab": {
     "base_uri": "https://localhost:8080/",
     "height": 530
    },
    "colab_type": "code",
    "id": "erGG0M4xegsa",
    "outputId": "e404856a-0017-4229-99e4-3616b5274bf1"
   },
   "outputs": [
    {
     "data": {
      "image/png": "[encoded data removed]",
      "text/plain": [
       "<Figure size 720x576 with 1 Axes>"
      ]
     },
     "metadata": {
      "needs_background": "light"
     },
     "output_type": "display_data"
    }
   ],
   "source": [
    "# Plot gain instead of weight\n",
    "# Plot feature importance\n",
    "# ”weight” is the number of times a feature appears in a tree\n",
    "xgb.plot_importance(bookings_xgb_clf_2, importance_type='gain')\n",
    "plt.show()"
   ]
  },
  {
   "cell_type": "markdown",
   "id": "efed5d30",
   "metadata": {
    "colab_type": "text",
    "id": "rRzPiziPegsd"
   },
   "source": [
    "Here we see the ordering of features differs quite a bit between `gain` and `weight`! This implies that (1) feature importance can be subjective, and (2) the number of appearances a feature has on a tree is not necessarily correlated to how much gain it brings. For example, a binary variable has less of a chance to appear as many times as a continuous variable on a tree, since there are only two outputs. However, it can still be a powerful feature."
   ]
  },
  {
   "cell_type": "markdown",
   "id": "a0acd838-df96-4e81-8dad-15cadbad07b8",
   "metadata": {},
   "source": [
    "<p>What does deposit type none refund imply?<br>\n",
    "Are none refund flights are cancelled more easily?</p>"
   ]
  },
  {
   "cell_type": "markdown",
   "id": "41d5c3f6",
   "metadata": {
    "colab_type": "text",
    "id": "QS4JqtMgegsd"
   },
   "source": [
    "#### **Plotting a decision tree from your model**\n",
    "\n",
    "The second handy visualization function is `plot_tree()` which visually generates a decision tree in your model. Remember, there are multiple trees in the model.\n",
    "\n",
    "It takes in the fitted XGBoost model, and with the `num_trees` parameter, you can indicate which tree you want to see. For example, if I have `n_estimator=3`, I can set the `num_trees` parameter as `0`, `1`, or `2` to see the first, second, or third tree, respectively."
   ]
  },
  {
   "cell_type": "code",
   "execution_count": 38,
   "id": "02160be1",
   "metadata": {
    "colab": {
     "base_uri": "https://localhost:8080/",
     "height": 341
    },
    "colab_type": "code",
    "id": "-oJtm9NNegse",
    "outputId": "ce8bbf55-a0b2-4eca-f87b-87e310a04b2c"
   },
   "outputs": [
    {
     "data": {
      "image/png": "[encoded data removed]",
      "text/plain": [
       "<Figure size 1440x576 with 1 Axes>"
      ]
     },
     "metadata": {
      "needs_background": "light"
     },
     "output_type": "display_data"
    }
   ],
   "source": [
    "matplotlib.rcParams['figure.figsize'] = (20.0, 8)\n",
    "\n",
    "# Plot the first tree\n",
    "xgb.plot_tree(bookings_xgb_clf_2, n_estimator=5, num_trees=1)\n",
    "plt.show()"
   ]
  },
  {
   "cell_type": "code",
   "execution_count": 39,
   "id": "85b53ddd-d24a-4ab4-86ec-f54fc32e5e52",
   "metadata": {},
   "outputs": [
    {
     "data": {
      "image/png": "[encoded data removed]",
      "text/plain": [
       "<Figure size 1440x576 with 1 Axes>"
      ]
     },
     "metadata": {
      "needs_background": "light"
     },
     "output_type": "display_data"
    }
   ],
   "source": [
    "xgb.plot_tree(bookings_xgb_clf_2, n_estimator=5, num_trees=4)\n",
    "plt.show()"
   ]
  },
  {
   "cell_type": "markdown",
   "id": "433baafa",
   "metadata": {
    "colab_type": "text",
    "id": "Q2S7DZ-Cegsh"
   },
   "source": [
    "The leaf output is the raw score. It's converted to a probability at the end of training.\n",
    "\n",
    "There's a parameter called `rankdir`. We can set it to `LR` so the decision tree builds left to right, as opposed to top to bottom."
   ]
  },
  {
   "cell_type": "code",
   "execution_count": 40,
   "id": "80c67748",
   "metadata": {
    "colab": {
     "base_uri": "https://localhost:8080/",
     "height": 319
    },
    "colab_type": "code",
    "id": "5BCG4Bgvegsi",
    "outputId": "e982cde3-47e6-42e0-aa7e-3fbf62741dca"
   },
   "outputs": [
    {
     "data": {
      "image/png": "[encoded data removed]",
      "text/plain": [
       "<Figure size 2160x1440 with 1 Axes>"
      ]
     },
     "metadata": {
      "needs_background": "light"
     },
     "output_type": "display_data"
    }
   ],
   "source": [
    "# Plot the tree left to right\n",
    "matplotlib.rcParams['figure.figsize'] = (30, 20)\n",
    "\n",
    "xgb.plot_tree(bookings_xgb_clf_2, rankdir='LR')\n",
    "plt.show()"
   ]
  },
  {
   "cell_type": "markdown",
   "id": "8021a631",
   "metadata": {
    "colab_type": "text",
    "id": "D85B-1HXegs5"
   },
   "source": [
    "## **3. Digging into Parameters**\n",
    "\n",
    "There are many parameters for our tree booster. We can see this in the documentation for [parameters for tree booster](https://xgboost.readthedocs.io/en/latest/parameter.html#parameters-for-tree-booster).\n",
    "\n",
    "In this section, we'll take a look at several important parameters and understand what they do.\n",
    "\n",
    "For this session's purpose, we'll use `XGBClassifier()` with **25 boosting** rounds to avoid long training times. "
   ]
  },
  {
   "cell_type": "code",
   "execution_count": 41,
   "id": "b60a8dfb",
   "metadata": {
    "colab": {},
    "colab_type": "code",
    "id": "2QbXgc2oegs7"
   },
   "outputs": [
    {
     "name": "stdout",
     "output_type": "stream",
     "text": [
      "Total runtime of book_xgb_clf_3 is: 34.5691 seconds.\n"
     ]
    }
   ],
   "source": [
    "# from sklearn.metrics import accuracy_score\n",
    "\n",
    "begin_3 = time.time()\n",
    "\n",
    "# Instantiate the XGBClassifier with 25 boosting rounds and error evaluation metric\n",
    "book_xgb_clf_3 = xgb.XGBClassifier(n_estimators=25, eval_metric='error', max_depth=3)\n",
    "\n",
    "book_xgb_clf_3.fit(X_train, y_train, verbose=False, eval_set=[(X_test, y_test)])\n",
    "\n",
    "preds_3 = book_xgb_clf_3.predict(X_test)\n",
    "\n",
    "acc_3 = round(accuracy_score(y_test, preds_3), 4)\n",
    "\n",
    "\n",
    "time.sleep(1)\n",
    "end_3 = time.time()\n",
    "\n",
    "print(f\"Total runtime of book_xgb_clf_3 is: {round(end_3 - begin_3, 4)} seconds.\")"
   ]
  },
  {
   "cell_type": "code",
   "execution_count": 42,
   "id": "a02bb657-8d57-48a6-a16e-64fefc3eb9d2",
   "metadata": {},
   "outputs": [
    {
     "name": "stdout",
     "output_type": "stream",
     "text": [
      "Accuracy of model 3 with max depths of 3\n",
      "_________________________________________\n",
      "0.8109\n",
      "81.08999999999999\n"
     ]
    }
   ],
   "source": [
    "print(\"Accuracy of model 3 with max depths of 3\")\n",
    "print(\"_________________________________________\")\n",
    "print(acc_3)\n",
    "print(f'{acc_3*100}')"
   ]
  },
  {
   "cell_type": "markdown",
   "id": "b7e09101-a813-4425-931f-95b2b64bf427",
   "metadata": {
    "tags": []
   },
   "source": [
    "### Evaluation of results with error eval_metric\n",
    "\n",
    "<p>\n",
    "This section does the evaluation of results with error eval_metric.<br>\n",
    "It produces the minimum error and a data frame of the errors.<br>\n",
    "It uses the data frame to build line plots of the errors over the estimators.<br>\n",
    "It generates the inputs for the plot.\n",
    "</p>\n",
    "\n",
    "<p>\n",
    "It generalizes the evaluation with self-defined functions.<br>\n",
    "In another step a class for evaluation called Evaluating_Errors is created.\n",
    "</p>    "
   ]
  },
  {
   "cell_type": "code",
   "execution_count": 43,
   "id": "a6c9b38c-a437-4582-8172-d09582eee7c9",
   "metadata": {},
   "outputs": [
    {
     "data": {
      "text/html": [
       "<div>\n",
       "<style scoped>\n",
       "    .dataframe tbody tr th:only-of-type {\n",
       "        vertical-align: middle;\n",
       "    }\n",
       "\n",
       "    .dataframe tbody tr th {\n",
       "        vertical-align: top;\n",
       "    }\n",
       "\n",
       "    .dataframe thead th {\n",
       "        text-align: right;\n",
       "    }\n",
       "</style>\n",
       "<table border=\"1\" class=\"dataframe\">\n",
       "  <thead>\n",
       "    <tr style=\"text-align: right;\">\n",
       "      <th></th>\n",
       "      <th>error</th>\n",
       "    </tr>\n",
       "  </thead>\n",
       "  <tbody>\n",
       "    <tr>\n",
       "      <th>0</th>\n",
       "      <td>0.235111</td>\n",
       "    </tr>\n",
       "    <tr>\n",
       "      <th>1</th>\n",
       "      <td>0.235111</td>\n",
       "    </tr>\n",
       "    <tr>\n",
       "      <th>2</th>\n",
       "      <td>0.235144</td>\n",
       "    </tr>\n",
       "    <tr>\n",
       "      <th>3</th>\n",
       "      <td>0.234674</td>\n",
       "    </tr>\n",
       "    <tr>\n",
       "      <th>4</th>\n",
       "      <td>0.234406</td>\n",
       "    </tr>\n",
       "  </tbody>\n",
       "</table>\n",
       "</div>"
      ],
      "text/plain": [
       "      error\n",
       "0  0.235111\n",
       "1  0.235111\n",
       "2  0.235144\n",
       "3  0.234674\n",
       "4  0.234406"
      ]
     },
     "execution_count": 43,
     "metadata": {},
     "output_type": "execute_result"
    }
   ],
   "source": [
    "evals_result_3 = book_xgb_clf_3.evals_result()\n",
    "evals_result_3_df = pd.DataFrame.from_dict(evals_result_3['validation_0'])\n",
    "evals_result_3_df.head()"
   ]
  },
  {
   "cell_type": "code",
   "execution_count": 44,
   "id": "cfac445e-763d-43ec-ac8f-748aa22f2b53",
   "metadata": {},
   "outputs": [
    {
     "data": {
      "text/html": [
       "<div>\n",
       "<style scoped>\n",
       "    .dataframe tbody tr th:only-of-type {\n",
       "        vertical-align: middle;\n",
       "    }\n",
       "\n",
       "    .dataframe tbody tr th {\n",
       "        vertical-align: top;\n",
       "    }\n",
       "\n",
       "    .dataframe thead th {\n",
       "        text-align: right;\n",
       "    }\n",
       "</style>\n",
       "<table border=\"1\" class=\"dataframe\">\n",
       "  <thead>\n",
       "    <tr style=\"text-align: right;\">\n",
       "      <th></th>\n",
       "      <th>error</th>\n",
       "    </tr>\n",
       "  </thead>\n",
       "  <tbody>\n",
       "    <tr>\n",
       "      <th>21</th>\n",
       "      <td>0.188639</td>\n",
       "    </tr>\n",
       "  </tbody>\n",
       "</table>\n",
       "</div>"
      ],
      "text/plain": [
       "       error\n",
       "21  0.188639"
      ]
     },
     "execution_count": 44,
     "metadata": {},
     "output_type": "execute_result"
    }
   ],
   "source": [
    "evals_result_3_min = \\\n",
    "evals_result_3_df[evals_result_3_df['error'] == evals_result_3_df['error'].min()]\n",
    "\n",
    "evals_result_3_min"
   ]
  },
  {
   "cell_type": "code",
   "execution_count": 45,
   "id": "7101878c-0435-4a73-b5cd-3d918c2d3007",
   "metadata": {},
   "outputs": [],
   "source": [
    "def eval_results(clf):\n",
    "        clf = clf.fit(X_train, y_train, verbose=False, eval_set=[(X_test, y_test)])\n",
    "        evals_result = clf.evals_result()\n",
    "        evals_result_df = pd.DataFrame.from_dict(evals_result['validation_0'])\n",
    "        evals_result_min = \\\n",
    "        evals_result_df[evals_result_df['error'] == evals_result_df['error'].min()]\n",
    "        return evals_result_df, evals_result_min\n",
    "    "
   ]
  },
  {
   "cell_type": "code",
   "execution_count": 46,
   "id": "21614878-84da-49d3-9811-365a92c5b033",
   "metadata": {},
   "outputs": [],
   "source": [
    "evals_result_3_df_2, evals_result_3_min_2 = eval_results(book_xgb_clf_3)"
   ]
  },
  {
   "cell_type": "code",
   "execution_count": 47,
   "id": "6fff56b6-1416-4e15-9135-4798d4b9d8be",
   "metadata": {},
   "outputs": [
    {
     "data": {
      "text/html": [
       "<div>\n",
       "<style scoped>\n",
       "    .dataframe tbody tr th:only-of-type {\n",
       "        vertical-align: middle;\n",
       "    }\n",
       "\n",
       "    .dataframe tbody tr th {\n",
       "        vertical-align: top;\n",
       "    }\n",
       "\n",
       "    .dataframe thead th {\n",
       "        text-align: right;\n",
       "    }\n",
       "</style>\n",
       "<table border=\"1\" class=\"dataframe\">\n",
       "  <thead>\n",
       "    <tr style=\"text-align: right;\">\n",
       "      <th></th>\n",
       "      <th>error</th>\n",
       "    </tr>\n",
       "  </thead>\n",
       "  <tbody>\n",
       "    <tr>\n",
       "      <th>0</th>\n",
       "      <td>0.235111</td>\n",
       "    </tr>\n",
       "    <tr>\n",
       "      <th>1</th>\n",
       "      <td>0.235111</td>\n",
       "    </tr>\n",
       "    <tr>\n",
       "      <th>2</th>\n",
       "      <td>0.235144</td>\n",
       "    </tr>\n",
       "    <tr>\n",
       "      <th>3</th>\n",
       "      <td>0.234674</td>\n",
       "    </tr>\n",
       "    <tr>\n",
       "      <th>4</th>\n",
       "      <td>0.234406</td>\n",
       "    </tr>\n",
       "  </tbody>\n",
       "</table>\n",
       "</div>"
      ],
      "text/plain": [
       "      error\n",
       "0  0.235111\n",
       "1  0.235111\n",
       "2  0.235144\n",
       "3  0.234674\n",
       "4  0.234406"
      ]
     },
     "execution_count": 47,
     "metadata": {},
     "output_type": "execute_result"
    }
   ],
   "source": [
    "evals_result_3_df_2.head()"
   ]
  },
  {
   "cell_type": "code",
   "execution_count": 48,
   "id": "8361d5b2-72c1-499d-8e8e-049900fab1ad",
   "metadata": {},
   "outputs": [
    {
     "data": {
      "text/html": [
       "<div>\n",
       "<style scoped>\n",
       "    .dataframe tbody tr th:only-of-type {\n",
       "        vertical-align: middle;\n",
       "    }\n",
       "\n",
       "    .dataframe tbody tr th {\n",
       "        vertical-align: top;\n",
       "    }\n",
       "\n",
       "    .dataframe thead th {\n",
       "        text-align: right;\n",
       "    }\n",
       "</style>\n",
       "<table border=\"1\" class=\"dataframe\">\n",
       "  <thead>\n",
       "    <tr style=\"text-align: right;\">\n",
       "      <th></th>\n",
       "      <th>error</th>\n",
       "    </tr>\n",
       "  </thead>\n",
       "  <tbody>\n",
       "    <tr>\n",
       "      <th>21</th>\n",
       "      <td>0.188639</td>\n",
       "    </tr>\n",
       "  </tbody>\n",
       "</table>\n",
       "</div>"
      ],
      "text/plain": [
       "       error\n",
       "21  0.188639"
      ]
     },
     "execution_count": 48,
     "metadata": {},
     "output_type": "execute_result"
    }
   ],
   "source": [
    "evals_result_3_min_2"
   ]
  },
  {
   "cell_type": "code",
   "execution_count": 49,
   "id": "52e7fb65-363b-44e1-85ea-56c63c693e0b",
   "metadata": {},
   "outputs": [
    {
     "data": {
      "image/png": "[encoded data removed]",
      "text/plain": [
       "<Figure size 720x288 with 1 Axes>"
      ]
     },
     "metadata": {
      "needs_background": "light"
     },
     "output_type": "display_data"
    }
   ],
   "source": [
    "evals_result_3_df_2.plot(figsize=(10,4), color='red', title='Error over n_estimators')\n",
    "plt.vlines(x=21 , ymin = 0.18, ymax=evals_result_3_df_2.max())\n",
    "plt.annotate(s=f\"Minimum error: \\n {evals_result_3_min_2.iloc[0][0]}\", \\\n",
    "             xy=(21-4, evals_result_3_df_2.min()+0.006))\n",
    "plt.xlabel('Number of trees')\n",
    "plt.show()"
   ]
  },
  {
   "cell_type": "markdown",
   "id": "d9b8a512-e466-45c9-9238-d23d3019f5a7",
   "metadata": {},
   "source": [
    "#### Plot errors with self-defined function"
   ]
  },
  {
   "cell_type": "code",
   "execution_count": 50,
   "id": "fb416563-8636-412c-a022-4daf7da969c2",
   "metadata": {},
   "outputs": [],
   "source": [
    "def plot_errors(evals, xvalue, ymin, ymax ):\n",
    "\n",
    "        evals.plot(figsize=(10,4), color='red', title='Error over n_estimators')\n",
    "        plt.vlines(x=xvalue, ymin = ymin, ymax=ymax)\n",
    "        plt.annotate(s=f\"Minimum error: \\n {ymin} \\n at estimator {xvalue}\", \\\n",
    "                     xy=(xvalue-4, ymin + 0.006))\n",
    "        plt.xlabel('Number of trees')\n",
    "        plt.show()"
   ]
  },
  {
   "cell_type": "code",
   "execution_count": null,
   "id": "cb77fdcb-dc64-442b-8aba-a0f78248fd03",
   "metadata": {},
   "outputs": [],
   "source": [
    "ymin_3 = evals_result_3_min_2.iloc[0][0]\n",
    "print(ymin_3)\n",
    "\n",
    "ymax_3 = evals_result_3_df_2.error.max()\n",
    "print(ymax_3)\n",
    "\n",
    "x_3 = evals_result_3_min_2.index[0]\n",
    "print(x_3)"
   ]
  },
  {
   "cell_type": "code",
   "execution_count": null,
   "id": "68355559-419c-42e6-a16a-ab5f3e95a67a",
   "metadata": {},
   "outputs": [],
   "source": [
    "plot_errors(evals=evals_result_3_df_2, xvalue=x_3 , ymin=ymin_3, ymax=ymax_3)"
   ]
  },
  {
   "cell_type": "markdown",
   "id": "307cb17e-b6a1-4b43-914b-7779d8d1f7ec",
   "metadata": {},
   "source": [
    "#### Func for inputs to plot errors"
   ]
  },
  {
   "cell_type": "code",
   "execution_count": null,
   "id": "2673f8d4-0301-4dcb-821d-52e24f099119",
   "metadata": {},
   "outputs": [],
   "source": [
    "def input_plot_errors(clf):\n",
    "    evals_result_df, evals_result_min = eval_results(clf)\n",
    "    \n",
    "    ymin = evals_result_min.iloc[0][0]\n",
    "    ymax = evals_result_df.error.max()\n",
    "    xvalue = evals_result_min.index[0]\n",
    "    \n",
    "    return ymin, ymax, xvalue\n"
   ]
  },
  {
   "cell_type": "code",
   "execution_count": null,
   "id": "7f266153-0a62-42e0-a787-bc8f0c4f1518",
   "metadata": {},
   "outputs": [],
   "source": [
    "ymin_32, ymax_32, xvalue_32 = \\\n",
    "input_plot_errors(book_xgb_clf_3)\n",
    "\n",
    "print(ymin_32, ymax_32, xvalue_32)"
   ]
  },
  {
   "cell_type": "code",
   "execution_count": null,
   "id": "114a56f2-9b51-4d96-bae1-f6a9e66ec32e",
   "metadata": {},
   "outputs": [],
   "source": [
    "plot_errors(evals=evals_result_3_df_2, xvalue=xvalue_32 , ymin=ymin_32, ymax=ymax_32)"
   ]
  },
  {
   "cell_type": "markdown",
   "id": "86c9ca9c-d093-46cf-af2a-fde07aef0a69",
   "metadata": {},
   "source": [
    "#### Building a class for evaluating errors"
   ]
  },
  {
   "cell_type": "code",
   "execution_count": null,
   "id": "828831f5-7a1f-4330-bfed-a9d247ffc2d1",
   "metadata": {},
   "outputs": [],
   "source": [
    "class Evaluating_Errors:\n",
    "        def __init__(self, classifier):\n",
    "                self.classifier = classifier\n",
    "        \n",
    "        def eval_results(self):  \n",
    "            self.classifier = \\\n",
    "            self.classifier.fit(X_train, y_train, verbose=False, eval_set=[(X_test, y_test)])\n",
    "            evals_result = self.classifier.evals_result()\n",
    "            evals_result_df = pd.DataFrame.from_dict(evals_result['validation_0'])\n",
    "            evals_result_min = \\\n",
    "            evals_result_df[evals_result_df['error'] == evals_result_df['error'].min()]\n",
    "            \n",
    "            self.evals_result = evals_result\n",
    "            self.evals_result_df = evals_result_df\n",
    "            self.evals_result_min = evals_result_min\n",
    "            \n",
    "            return self.evals_result_df, self.evals_result_min \n",
    "        \n",
    "        def input_plot_errors(self):\n",
    "                self.ymin = self.evals_result_min.iloc[0][0]\n",
    "                self.ymax = self.evals_result_df.error.max()\n",
    "                self.xvalue = self.evals_result_min.index[0]\n",
    "                return self.ymin, self.ymax, self.xvalue\n",
    "            \n",
    "        def plot_errors(self):\n",
    "\n",
    "                self.evals_result_df.plot(figsize=(10,4), color='green', title='Error over n_estimators',\n",
    "                                          linewidth=4)\n",
    "                plt.vlines(x=self.xvalue, ymin = self.ymin, ymax=self.ymax)\n",
    "                plt.annotate(s=f\"Minimum error: \\n {self.ymin} \\n at estimator {self.xvalue}\", \\\n",
    "                             xy=(self.xvalue-4, self.ymin + 0.006))\n",
    "                plt.xlabel('Number of trees')\n",
    "                plt.show()\n"
   ]
  },
  {
   "cell_type": "code",
   "execution_count": null,
   "id": "4680b8ac-9e60-43d8-ba49-935a41c9671a",
   "metadata": {},
   "outputs": [],
   "source": [
    "instance_evaluating_errors_3 = Evaluating_Errors(book_xgb_clf_3)\n",
    "\n",
    "print(instance_evaluating_errors_3)\n",
    "print(instance_evaluating_errors_3.classifier)"
   ]
  },
  {
   "cell_type": "code",
   "execution_count": null,
   "id": "b9f4ba74-381e-4ae6-8a08-c300bdad12f7",
   "metadata": {},
   "outputs": [],
   "source": [
    "evals_result_df_3_class, evals_result_min_3_class = \\\n",
    "instance_evaluating_errors_3.eval_results()"
   ]
  },
  {
   "cell_type": "code",
   "execution_count": null,
   "id": "b939237a-c526-4604-8ac7-706941fb743b",
   "metadata": {},
   "outputs": [],
   "source": [
    "print(evals_result_min_3_class)\n",
    "evals_result_df_3_class.head()"
   ]
  },
  {
   "cell_type": "code",
   "execution_count": null,
   "id": "8b9f6b81-5167-403c-8dcf-9da70f1fc7ed",
   "metadata": {},
   "outputs": [],
   "source": [
    "ymin_3_class, ymax_3_class, xvalue_3_class = \\\n",
    "instance_evaluating_errors_3.input_plot_errors()\n",
    "\n",
    "for i in [ymin_3_class, ymax_3_class, xvalue_3_class]:\n",
    "    print(i)"
   ]
  },
  {
   "cell_type": "code",
   "execution_count": null,
   "id": "f6d0c991-bf44-41b3-8e46-33ecb823906a",
   "metadata": {},
   "outputs": [],
   "source": [
    "instance_evaluating_errors_3.plot_errors()"
   ]
  },
  {
   "cell_type": "markdown",
   "id": "c958bded",
   "metadata": {
    "colab_type": "text",
    "id": "yxd2UvBaegs-"
   },
   "source": [
    "### **Max depth**\n",
    "\n",
    "_From XGBoost docs:_\n",
    "> Maximum depth of a tree. Increasing this value will make the model more complex and more likely to overfit.\n",
    "\n",
    "<p align=\"center\">\n",
    "<img src=\"https://github.com/datacamp/Machine-Learning-With-XGboost-live-training/blob/master/assets/max_depth.png?raw=true\" width = \"35%\"> \n",
    "</p>\n",
    "\n",
    "Let's see what happens when we increase the `max_depth` from 3 to 10.\n"
   ]
  },
  {
   "cell_type": "code",
   "execution_count": null,
   "id": "83d6b014",
   "metadata": {
    "colab": {
     "base_uri": "https://localhost:8080/",
     "height": 34
    },
    "colab_type": "code",
    "id": "lF-z7vY_egs-",
    "outputId": "fe03058f-f4b8-4468-aa60-bc1c27d9683c"
   },
   "outputs": [],
   "source": [
    "# Set max_depth to 10\n",
    "max_depth=10\n",
    "\n",
    "book_xgb_clf_4 = \\\n",
    "xgb.XGBClassifier(n_estimators=25, eval_metric='error', max_depth=max_depth)\n",
    "\n",
    "# Fit the classifier to the training set\n",
    "book_xgb_clf_4.fit(X_train, y_train)\n",
    "\n",
    "# Predict the labels of the test set\n",
    "preds_4 = book_xgb_clf_4.predict(X_test)\n",
    "\n",
    "# Compute the accuracy\n",
    "acc_4 = round(accuracy_score(y_test, preds_4), 4)\n",
    "\n",
    "print(\"Accuracy of model 4 with max depths of 10\")\n",
    "print(\"_________________________________________\")\n",
    "print(acc_4)\n",
    "print(f'{acc_4*100} %')"
   ]
  },
  {
   "cell_type": "code",
   "execution_count": null,
   "id": "ebb8e89b-024c-40aa-9f70-754c6e911b9d",
   "metadata": {},
   "outputs": [],
   "source": [
    "print(acc_4 > acc_3)\n",
    "print(round(acc_4 - acc_3, 4))"
   ]
  },
  {
   "cell_type": "markdown",
   "id": "5823c0a4-c496-4580-a608-ebf8619576d6",
   "metadata": {},
   "source": [
    "<p>\n",
    "The assumption is not really confirmed.<br>\n",
    "The model with depth of 10 did generate a slightly better accuracy on the y_test data.\n",
    "</p>"
   ]
  },
  {
   "cell_type": "code",
   "execution_count": null,
   "id": "674a9bfb-cc4c-4912-8fd5-fc65670e62d5",
   "metadata": {},
   "outputs": [],
   "source": [
    "eval_results_df_4, eval_results_min_4 = eval_results(book_xgb_clf_4)\n",
    "\n",
    "\n",
    "print(eval_results_min_4)\n",
    "eval_results_df_4.head()"
   ]
  },
  {
   "cell_type": "code",
   "execution_count": null,
   "id": "10158d62-140d-4519-a05e-9f37abbc1841",
   "metadata": {},
   "outputs": [],
   "source": [
    "eval_results_df_4.plot(figsize=(10,4), color='red', title='Error over n_estimators', linewidth=3)\n",
    "plt.vlines(x=24 , ymin = 0.15, ymax=0.23)\n",
    "plt.annotate(s=f\"Minimum error: \\n {eval_results_min_4.iloc[0][0]}\", \\\n",
    "             xy=(24-4, 0.165352+0.006))\n",
    "plt.show()"
   ]
  },
  {
   "cell_type": "markdown",
   "id": "0aececa8",
   "metadata": {
    "colab_type": "text",
    "id": "h3ug_cyUegtB"
   },
   "source": [
    "### **colsample_bytree**\n",
    "\n",
    "_From XGBoost docs:_\n",
    "\n",
    "> The subsample ratio of columns when constructing each tree. Subsampling occurs once for every tree constructed.\n",
    "\n",
    "Essentially, this lets us limit the number of columns used when constructing each tree. This adds randomness, making the model more robust to noise. The default is 1 (i.e. all the columns), let's try a smaller value.\n",
    "\n",
    "<p align=\"center\">\n",
    "<img src=\"https://github.com/datacamp/Machine-Learning-With-XGboost-live-training/blob/master/assets/colsample_bytree.gif?raw=true\" width = \"55%\"> \n",
    "</p>"
   ]
  },
  {
   "cell_type": "code",
   "execution_count": null,
   "id": "0b83718e",
   "metadata": {
    "colab": {
     "base_uri": "https://localhost:8080/",
     "height": 34
    },
    "colab_type": "code",
    "id": "VR3ZeImPegtB",
    "outputId": "a8aebe9e-8690-4df6-eab8-9d1ac8480d6f"
   },
   "outputs": [],
   "source": [
    "# Set colsample_bytree to 0.5 \n",
    "\n",
    "colsample_bytree = 0.5\n",
    "# Fit the classifier to the training set\n",
    "\n",
    "book_xgb_clf_5 = \\\n",
    "xgb.XGBClassifier(n_estimators=25, eval_metric='error', max_depth=3,\n",
    "                  colsample_bytree=colsample_bytree).fit(X_train, y_train)\n",
    "\n",
    "# Predict the labels of the test set\n",
    "preds_5 = book_xgb_clf_5.predict(X_test)\n",
    "\n",
    "# Compute the accuracy\n",
    "acc_5 = round(accuracy_score(y_test, preds_5),4)\n",
    "\n",
    "\n",
    "print(\"Accuracy of model 5 with colsample_bytree = 0.5\")\n",
    "print(\"_________________________________________\")\n",
    "print(acc_5)\n",
    "print(f'{acc_5*100} %')"
   ]
  },
  {
   "cell_type": "code",
   "execution_count": null,
   "id": "a2b0ade5-27b9-407b-a869-f20889e9d9fa",
   "metadata": {},
   "outputs": [],
   "source": [
    "preds_5_df = pd.DataFrame(zip(y_test, preds_5), columns=['y_test', 'preds_5'])\n",
    "preds_5_df['Correct_predictions?'] = preds_5_df.apply(correct_predictions, args=['preds_5'],\n",
    "                                                      axis=1)\n",
    "preds_5_df.head()"
   ]
  },
  {
   "cell_type": "code",
   "execution_count": null,
   "id": "8613f3f8-5f0d-4cd2-87c2-6eeec137f725",
   "metadata": {},
   "outputs": [],
   "source": [
    "preds_5_df['Correct_predictions?'].value_counts()"
   ]
  },
  {
   "cell_type": "code",
   "execution_count": null,
   "id": "391e4d63-7efc-4127-8ad8-0a8febf10a71",
   "metadata": {},
   "outputs": [],
   "source": [
    "acc_5_byhand = \\\n",
    "round((preds_5_df['Correct_predictions?'].sum() / preds_5_df['Correct_predictions?'].\\\n",
    "       shape[0])*100, 4)\n",
    "\n",
    "print(acc_5_byhand)"
   ]
  },
  {
   "cell_type": "markdown",
   "id": "9d2fa1c4-cfed-4865-af4a-139f0588a49d",
   "metadata": {},
   "source": [
    "#### Evaluating errors book_xgb_clf_5"
   ]
  },
  {
   "cell_type": "code",
   "execution_count": null,
   "id": "017272f0-a697-44c6-991f-197484d57ad0",
   "metadata": {},
   "outputs": [],
   "source": [
    "instance_evaluating_errors_5 = Evaluating_Errors(book_xgb_clf_5)\n",
    "\n",
    "evals_result_df_5_class, evals_result_min_5_class = \\\n",
    "instance_evaluating_errors_5.eval_results()\n",
    "\n",
    "print(evals_result_min_5_class)\n",
    "evals_result_df_5_class.head()"
   ]
  },
  {
   "cell_type": "code",
   "execution_count": null,
   "id": "6e2aa191-39aa-4822-9a55-da22c7bd552e",
   "metadata": {},
   "outputs": [],
   "source": [
    "ymin_5_class, ymax_5_class, xvalue_5_class = \\\n",
    "instance_evaluating_errors_5.input_plot_errors()\n",
    "\n",
    "for i in [ymin_5_class, ymax_5_class, xvalue_5_class]:\n",
    "    print(i)\n",
    "    "
   ]
  },
  {
   "cell_type": "code",
   "execution_count": null,
   "id": "9b45f3d8-41b5-4679-9284-fe970aa53cc2",
   "metadata": {},
   "outputs": [],
   "source": [
    "instance_evaluating_errors_5.plot_errors()"
   ]
  },
  {
   "cell_type": "code",
   "execution_count": null,
   "id": "8f511976-7879-4dc7-a38e-ebb0066d12b5",
   "metadata": {},
   "outputs": [],
   "source": [
    "acc_comparison = \\\n",
    "pd.DataFrame([acc_3, acc_4, acc_5], index=['acc_3_md_3', 'acc_4_md_10', 'acc_5_bytree'], columns=['Accuracy'])\n",
    "\n",
    "acc_comparison"
   ]
  },
  {
   "cell_type": "code",
   "execution_count": null,
   "id": "ae2bf05c-b85b-4ca9-9729-5f2ec0ffa579",
   "metadata": {},
   "outputs": [],
   "source": [
    "acc_comparison[acc_comparison['Accuracy'] == acc_comparison['Accuracy'].max()]"
   ]
  },
  {
   "cell_type": "code",
   "execution_count": null,
   "id": "7389b3a9-519d-48fc-a742-a8a7f0082dce",
   "metadata": {},
   "outputs": [],
   "source": [
    "acc_comparison.loc['acc_dmatrix'] = acc_dmatrix\n",
    "acc_comparison.sort_values(by='Accuracy', ascending=False)"
   ]
  },
  {
   "cell_type": "markdown",
   "id": "c0900c07-4d95-495e-9493-07e1ea572100",
   "metadata": {},
   "source": [
    "<p>\n",
    "A combination of bytree and md improves the result.\n",
    "</p>"
   ]
  },
  {
   "cell_type": "code",
   "execution_count": null,
   "id": "113efddc-c9ba-4e60-9d3f-5b58c0b406f5",
   "metadata": {},
   "outputs": [],
   "source": [
    "# Set colsample_bytree to 0.5 \n",
    "colsample_bytree = 0.5\n",
    "# Fit the classifier to the training set\n",
    "\n",
    "book_xgb_clf_6 = \\\n",
    "xgb.XGBClassifier(n_estimators=25, eval_metric='error', max_depth=10,\n",
    "                  colsample_bytree=colsample_bytree).fit(X_train, y_train)\n",
    "\n",
    "# Predict the labels of the test set\n",
    "preds_6 = book_xgb_clf_6.predict(X_test)\n",
    "\n",
    "# Compute the accuracy\n",
    "acc_6 = round(accuracy_score(y_test, preds_6),4)\n",
    "\n",
    "\n",
    "print(\"Accuracy of model 6 with colsample_bytree = 0.5 and max depth = 10\")\n",
    "print(\"_________________________________________\")\n",
    "print(acc_6)\n",
    "print(f'{acc_6*100} %')"
   ]
  },
  {
   "cell_type": "markdown",
   "id": "7ef4e2a8-7336-493f-b9de-eb6bc4705046",
   "metadata": {},
   "source": [
    "#### Evaluating errors book_xgb_clf_6"
   ]
  },
  {
   "cell_type": "code",
   "execution_count": null,
   "id": "894c1250-da02-4bae-86c0-a12c335b3525",
   "metadata": {},
   "outputs": [],
   "source": [
    "instance_evaluating_errors_6 = Evaluating_Errors(book_xgb_clf_6)\n",
    "\n",
    "evals_result_df_6_class, evals_result_min_6_class = \\\n",
    "instance_evaluating_errors_6.eval_results()\n",
    "\n",
    "print(evals_result_min_6_class)\n",
    "evals_result_df_6_class.head()\n",
    "\n",
    "ymin_6_class, ymax_6_class, xvalue_6_class = \\\n",
    "instance_evaluating_errors_6.input_plot_errors()\n",
    "\n",
    "for i in [ymin_6_class, ymax_6_class, xvalue_6_class]:\n",
    "    print(i)\n",
    "\n",
    "instance_evaluating_errors_6.plot_errors()  \n"
   ]
  },
  {
   "cell_type": "code",
   "execution_count": null,
   "id": "acdeef4f-736b-45ab-aeba-88ea75cd2eb5",
   "metadata": {},
   "outputs": [],
   "source": [
    "acc_comparison.loc['acc_6_bytree_md_10'] = acc_6\n",
    "acc_comparison"
   ]
  },
  {
   "cell_type": "markdown",
   "id": "1916a05b",
   "metadata": {
    "colab_type": "text",
    "id": "dffKcMocegtE"
   },
   "source": [
    "We can also limit the number of columns used by every depth level or node of our tree.\n",
    "\n",
    "_From XGBoost docs:_\n",
    "\n",
    "> `colsample_bylevel` is the subsample ratio of columns for each level. Subsampling occurs once for every new depth level reached in a tree. Columns are subsampled from the set of columns chosen for the current tree.\n",
    "\n",
    "> `colsample_bynode` is the subsample ratio of columns for each node (split). Subsampling occurs once every time a new split is evaluated. Columns are subsampled from the set of columns chosen for the current level."
   ]
  },
  {
   "cell_type": "markdown",
   "id": "f5e0e19f",
   "metadata": {
    "colab_type": "text",
    "id": "Oc2NtL3WegtE"
   },
   "source": [
    "### **subsample**\n",
    "\n",
    "_From XGBoost docs:_\n",
    "\n",
    "> - Subsample ratio of the training instances. Setting it to 0.5 means that XGBoost would randomly sample half of the training data prior to growing trees and this will prevent overfitting. \n",
    "> - Subsampling will occur once in every boosting iteration.\n",
    "> - range: (0,1]\n",
    "\n",
    "Default is 1, let's try 0.75. \n",
    "\n",
    "This means each of our trees will get a random sampling of 75% of our training data. Each tree will train on different portions of data which adds randomness (similar to `colsample_bytree`). \n",
    "\n",
    "<p align=\"center\">\n",
    "<img src=\"https://github.com/datacamp/Machine-Learning-With-XGboost-live-training/blob/master/assets/subsample.gif?raw=true\" width = \"55%\"> \n",
    "</p>\n",
    "\n",
    "However, we don't want this too low if we don't have many trees, because our model will underfit from not seeing as much data."
   ]
  },
  {
   "cell_type": "code",
   "execution_count": null,
   "id": "3d64b74e",
   "metadata": {
    "colab": {
     "base_uri": "https://localhost:8080/",
     "height": 34
    },
    "colab_type": "code",
    "id": "-_TNOis3egtF",
    "outputId": "c6aa794a-0629-4106-b95b-54a34cf3f913"
   },
   "outputs": [],
   "source": [
    "# Set subsample to 0.75 \n",
    "subsample = 0.75\n",
    "\n",
    "# Fit the classifier to the training set\n",
    "book_xgb_clf_7 = \\\n",
    "xgb.XGBClassifier(n_estimators=25, eval_metric='error', max_depth=10,\n",
    "                  colsample_bytree=colsample_bytree, subsample=subsample).fit(X_train, y_train)\n",
    "\n",
    "# Predict the labels of the test set\n",
    "preds_7 = book_xgb_clf_7.predict(X_test)"
   ]
  },
  {
   "cell_type": "code",
   "execution_count": null,
   "id": "50ab5336-538a-41c3-ba39-5364550ebccd",
   "metadata": {},
   "outputs": [],
   "source": [
    "# Compute the accuracy\n",
    "acc_7 = round(accuracy_score(y_test, preds_7), 4)\n",
    "print(acc_7)"
   ]
  },
  {
   "cell_type": "markdown",
   "id": "765bbc39-2471-4134-b802-07469e909f8e",
   "metadata": {
    "tags": []
   },
   "source": [
    "#### Plot errors book_xgb_clf_7"
   ]
  },
  {
   "cell_type": "code",
   "execution_count": null,
   "id": "51ba13aa-fd3b-4b8d-915e-142613e0022d",
   "metadata": {},
   "outputs": [],
   "source": [
    "eval_results_df_7, eval_results_min_7 = eval_results(book_xgb_clf_7)\n",
    "\n",
    "\n",
    "print(eval_results_min_7)\n",
    "\n",
    "print(eval_results_min_7.iloc[0][0])\n",
    "eval_results_df_7.head()"
   ]
  },
  {
   "cell_type": "code",
   "execution_count": null,
   "id": "c06e6f6d-acd5-48ed-a103-dcd87e8bc3eb",
   "metadata": {},
   "outputs": [],
   "source": [
    "ymin_7 = eval_results_min_7.iloc[0][0]\n",
    "print(ymin_7)\n",
    "\n",
    "ymax_7 = eval_results_df_7.error.max()\n",
    "print(ymax_7)\n",
    "\n",
    "x_7 = eval_results_min_7.index[0]\n",
    "print(x_7)"
   ]
  },
  {
   "cell_type": "code",
   "execution_count": null,
   "id": "aad73e79-908f-48f2-a61e-0b10348318f7",
   "metadata": {},
   "outputs": [],
   "source": [
    "plot_errors(evals=eval_results_df_7, xvalue=x_7 , ymin=ymin_7, ymax=ymax_7)"
   ]
  },
  {
   "cell_type": "code",
   "execution_count": null,
   "id": "37c23a25-1dbe-445d-98e1-cd8b8492cae9",
   "metadata": {},
   "outputs": [],
   "source": [
    "acc_comparison.loc['subsample'] = acc_7\n",
    "acc_comparison"
   ]
  },
  {
   "cell_type": "markdown",
   "id": "fb7eb501-af91-45c0-91b8-f0c2c1e94455",
   "metadata": {},
   "source": [
    "<p>\n",
    "This did not improve the accuracy.\n",
    "</p>"
   ]
  },
  {
   "cell_type": "markdown",
   "id": "26b15249",
   "metadata": {
    "colab_type": "text",
    "id": "9TQEfG-hegtK"
   },
   "source": [
    "### **gamma**\n",
    "\n",
    "_From XGBoost docs:_\n",
    "> - Minimum loss reduction required to make a further partition on a leaf node of the tree. The larger gamma is, the more conservative the algorithm will be.\n",
    "> - range: [0,∞]\n",
    "\n",
    "\n",
    "This decides whether a node will split based on the expected loss reduction after the split. `gamma` represents the minimum loss reduction required for a node to split.\n",
    "\n",
    "<p align=\"center\">\n",
    "<img src=\"https://github.com/datacamp/Machine-Learning-With-XGboost-live-training/blob/master/assets/gamma.png?raw=true\" width = \"45%\"> \n",
    "</p>\n",
    "\n",
    "Increasing `gamma` = less splits = less complexity\n",
    "\n",
    "The default is 0, so in our case, nodes have always split until the maximum depth. Let's increase it to 0.25.\n",
    "\n",
    "\n"
   ]
  },
  {
   "cell_type": "code",
   "execution_count": null,
   "id": "c01f94fb",
   "metadata": {
    "colab": {
     "base_uri": "https://localhost:8080/",
     "height": 34
    },
    "colab_type": "code",
    "id": "YXuKmQwKegtK",
    "outputId": "e53a5d06-ac79-4a93-b994-027497eb4fc3"
   },
   "outputs": [],
   "source": [
    "# Set gamma to .25 \n",
    "gamma=0.25\n",
    "\n",
    "# Fit the classifier to the training set\n",
    "book_xgb_clf_8 = \\\n",
    "xgb.XGBClassifier(n_estimators=25, max_depth=10, colsample_bytree=0.5, eval_metric='error',\n",
    "                  gamma=0.25).\\\n",
    "                  fit(X_train, y_train)\n",
    "\n",
    "# Predict the labels of the test set\n",
    "preds_8 = book_xgb_clf_8.predict(X_test)\n"
   ]
  },
  {
   "cell_type": "code",
   "execution_count": null,
   "id": "d19f9b0c-3ae1-4e65-a6df-aba2c1342ac3",
   "metadata": {},
   "outputs": [],
   "source": [
    "# Compute the accuracy\n",
    "acc_8 = round(accuracy_score(y_test, preds_8), 5)\n",
    "print(acc_8)"
   ]
  },
  {
   "cell_type": "markdown",
   "id": "131ba92b-2a05-4cf4-be6a-2144dd584507",
   "metadata": {},
   "source": [
    "<p>This is an improvement in accuracy.</p>"
   ]
  },
  {
   "cell_type": "code",
   "execution_count": null,
   "id": "f1b18472-ee0c-4deb-9d92-21d459f4c5b1",
   "metadata": {},
   "outputs": [],
   "source": [
    "acc_comparison.loc['gamma'] = acc_8\n",
    "\n",
    "print(acc_comparison[acc_comparison.Accuracy == acc_comparison.Accuracy.max()])"
   ]
  },
  {
   "cell_type": "markdown",
   "id": "8b5b819b-c742-4872-88bd-3241cb66bedb",
   "metadata": {
    "tags": []
   },
   "source": [
    "#### Plot errors book_xgb_clf_8"
   ]
  },
  {
   "cell_type": "code",
   "execution_count": null,
   "id": "7efdc367-596e-4931-b58d-1e247fd27a1b",
   "metadata": {},
   "outputs": [],
   "source": [
    "instance_evaluating_errors_8 = Evaluating_Errors(book_xgb_clf_8)\n",
    "\n",
    "evals_result_df_8_class, evals_result_min_8_class = \\\n",
    "instance_evaluating_errors_8.eval_results()\n",
    "\n",
    "print(evals_result_min_8_class)\n",
    "evals_result_df_8_class.head()\n",
    "\n",
    "ymin_8_class, ymax_8_class, xvalue_8_class = \\\n",
    "instance_evaluating_errors_8.input_plot_errors()\n",
    "\n",
    "for i in [ymin_8_class, ymax_8_class, xvalue_8_class]:\n",
    "    print(i)\n",
    "\n",
    "instance_evaluating_errors_8.plot_errors()  \n"
   ]
  },
  {
   "cell_type": "code",
   "execution_count": null,
   "id": "87150490-0e00-46a2-ba6c-218ad733d95e",
   "metadata": {},
   "outputs": [],
   "source": [
    "acc_comparison.sort_values(by='Accuracy', ascending=False)"
   ]
  },
  {
   "cell_type": "markdown",
   "id": "1a1b62c0",
   "metadata": {
    "colab_type": "text",
    "id": "Tp92TsxLegtQ"
   },
   "source": [
    "### **Learning Rate (aka eta)**\n",
    "\n",
    "_From XGBoost docs:_\n",
    "> - Step size shrinkage used in update to prevents overfitting. After each boosting step, we can directly get the weights of new features, and eta shrinks the feature weights to make the boosting process more conservative.\n",
    "> - range: [0,1]\n",
    "\n",
    "The learning rate affects how quickly a model learns.\n",
    "\n",
    "Gradient boosting works by sequentially adding weak learners to the model. Each new weak learner attempts to correct the residual errors from the preceding trees. This make the model very susceptible to overfitting. Learning rate can help slow down learning by shrinking the resulting weights of the current tree before passing them on to the next tree.\n",
    "\n",
    "The learning rate of our model defaults to 0.3. What happens if we change it to 0.1?"
   ]
  },
  {
   "cell_type": "code",
   "execution_count": null,
   "id": "d6e6f09b",
   "metadata": {
    "colab": {
     "base_uri": "https://localhost:8080/",
     "height": 34
    },
    "colab_type": "code",
    "id": "YJ86u1PRegtR",
    "outputId": "20d469e7-e216-4b3c-ba40-0f33b512d404"
   },
   "outputs": [],
   "source": [
    "# Set learning rate to .1\n",
    "learning_rate=0.1\n",
    "\n",
    "# Fit the classifier to the training set\n",
    "book_xgb_clf_9 = \\\n",
    "xgb.XGBClassifier(n_estimators=25, max_depth=10, eval_metric='error', gamma=gamma,\n",
    "                  colsample_bytree=0.5, learning_rate=learning_rate).fit(X_train, y_train)\n",
    "\n",
    "# Predict the labels of the test set\n",
    "preds_9 = book_xgb_clf_9.predict(X_test)"
   ]
  },
  {
   "cell_type": "code",
   "execution_count": null,
   "id": "db870c63-4c80-4082-8aae-38a46e1027c5",
   "metadata": {},
   "outputs": [],
   "source": [
    "# Compute the accuracy\n",
    "acc_9 = round(accuracy_score(y_test, preds_9), 5)"
   ]
  },
  {
   "cell_type": "markdown",
   "id": "729a57f8-d496-40e4-ac3a-fa47cd35257e",
   "metadata": {
    "tags": []
   },
   "source": [
    "#### Plot errors book_xgb_clf_9"
   ]
  },
  {
   "cell_type": "code",
   "execution_count": null,
   "id": "cbd499a1-df10-4311-94c2-3c2273ebe27b",
   "metadata": {},
   "outputs": [],
   "source": [
    "eval_results_df_9, eval_results_min_9 = eval_results(book_xgb_clf_9)\n",
    "\n",
    "\n",
    "print(eval_results_min_9)\n",
    "\n",
    "print(eval_results_min_9.iloc[0][0])\n",
    "eval_results_df_9.head()"
   ]
  },
  {
   "cell_type": "code",
   "execution_count": null,
   "id": "e176a65e-af2d-45e3-907f-81e42dde4547",
   "metadata": {},
   "outputs": [],
   "source": [
    "ymin_9 = eval_results_min_9.iloc[0][0]\n",
    "print(ymin_9)\n",
    "\n",
    "ymax_9 = eval_results_df_9.error.max()\n",
    "print(ymax_9)\n",
    "\n",
    "x_9 = eval_results_min_9.index[0]\n",
    "print(x_9)"
   ]
  },
  {
   "cell_type": "code",
   "execution_count": null,
   "id": "c0c4a74d-7b9f-46e9-9f76-08ef630ff26e",
   "metadata": {},
   "outputs": [],
   "source": [
    "plot_errors(evals=eval_results_df_9, xvalue=x_9 , ymin=ymin_9, ymax=ymax_9)"
   ]
  },
  {
   "cell_type": "code",
   "execution_count": null,
   "id": "ed88c171-af49-47a6-b8f4-150cd6bb39df",
   "metadata": {},
   "outputs": [],
   "source": [
    "acc_comparison.loc['learning_rate'] = acc_9\n",
    "acc_comparison.sort_values(by='Accuracy', ascending=False)"
   ]
  },
  {
   "cell_type": "markdown",
   "id": "eebdd4c7",
   "metadata": {
    "colab_type": "text",
    "id": "qIQ9UJzjDERA"
   },
   "source": [
    "The learning rate and the number of trees should be tuned together. If we decrease the learning rate, we need to make sure we have enough trees to learn something and avoid severely underfitting. **Therefore, a low learning rate will require more boosting rounds.**"
   ]
  },
  {
   "cell_type": "code",
   "execution_count": null,
   "id": "7bd2f73e-1cb5-4339-b152-d8771b7d0bed",
   "metadata": {},
   "outputs": [],
   "source": [
    "# Fit the classifier to the training set\n",
    "book_xgb_clf_10 = \\\n",
    "xgb.XGBClassifier(n_estimators=50, max_depth=10, eval_metric='error', gamma=gamma,\n",
    "                  colsample_bytree=0.5, learning_rate=learning_rate).fit(X_train, y_train)\n",
    "\n",
    "# Predict the labels of the test set\n",
    "preds_10 = book_xgb_clf_10.predict(X_test)"
   ]
  },
  {
   "cell_type": "code",
   "execution_count": null,
   "id": "5b904c15-3cfb-425b-8f2a-dbadd4264bcb",
   "metadata": {},
   "outputs": [],
   "source": [
    "# Compute the accuracy\n",
    "acc_10 = round(accuracy_score(y_test, preds_10), 5)\n",
    "acc_10"
   ]
  },
  {
   "cell_type": "markdown",
   "id": "9081fe4c-cfd4-4d44-9a85-be5b4deeb10c",
   "metadata": {},
   "source": [
    "#### Evaluating errors book_xgb_clf_10"
   ]
  },
  {
   "cell_type": "code",
   "execution_count": null,
   "id": "c36e75d6-1f18-450f-80b9-45d0a36d1a5a",
   "metadata": {},
   "outputs": [],
   "source": [
    "instance_evaluating_errors_10 = Evaluating_Errors(book_xgb_clf_10)\n",
    "\n",
    "evals_result_df_10_class, evals_result_min_10_class = \\\n",
    "instance_evaluating_errors_10.eval_results()\n",
    "\n",
    "print(evals_result_min_10_class)\n",
    "evals_result_df_10_class.head()\n",
    "\n",
    "ymin_10_class, ymax_10_class, xvalue_10_class = \\\n",
    "instance_evaluating_errors_10.input_plot_errors()\n",
    "\n",
    "for i in [ymin_10_class, ymax_10_class, xvalue_10_class]:\n",
    "    print(i)\n",
    "\n",
    "instance_evaluating_errors_10.plot_errors()  \n"
   ]
  },
  {
   "cell_type": "code",
   "execution_count": null,
   "id": "4e04527a-da37-46d6-9155-4fbe14e6edb1",
   "metadata": {},
   "outputs": [],
   "source": [
    "acc_comparison.loc['learning_rate_boost_50'] = acc_10\n",
    "acc_comparison.sort_values(by='Accuracy', ascending=False)"
   ]
  },
  {
   "cell_type": "markdown",
   "id": "51b50940-c0ce-4af4-ac50-bcc7e76c5516",
   "metadata": {},
   "source": [
    "<p>\n",
    "Adding more estimators or trees combined with the learning rate of 0.1 improved the result, but\n",
    "did not achieved the best result.\n",
    "</p>"
   ]
  },
  {
   "cell_type": "markdown",
   "id": "0a2fdd27",
   "metadata": {
    "colab_type": "text",
    "id": "afmWgrWCegtM"
   },
   "source": [
    "### **reg_alpha**\n",
    "\n",
    "_From XGBoost docs:_\n",
    "> L1 regularization term on weights. Increasing this value will make model more conservative.\n",
    "\n",
    "L1 is often referred to as **lasso regression**. It's a foundational regularization technique, meaning it aims to reduce overfitting by discouraging complex models. In the case of gradient boosting, L1 does this by adding penalties on leaf weights. Increasing `reg_alpha` drives base learners' leaf weights towards 0.\n",
    "\n",
    "Default is 0, meaning there is no alpha regularization in our model currently. Let's activate L1 with a value of `0.01`."
   ]
  },
  {
   "cell_type": "code",
   "execution_count": null,
   "id": "d593ffd5",
   "metadata": {
    "colab": {
     "base_uri": "https://localhost:8080/",
     "height": 34
    },
    "colab_type": "code",
    "id": "D1skhV5NegtN",
    "outputId": "09255ab1-b5fe-40ff-cfea-e8204482f003"
   },
   "outputs": [],
   "source": [
    "# Conservative means less prone to overfitting?\n",
    "# set reg_alpha to .1 \n",
    "reg_alpha = 0.1\n",
    "\n",
    "# Fit the classifier to the training set\n",
    "# Fit the classifier to the training set\n",
    "book_xgb_clf_11 = \\\n",
    "xgb.XGBClassifier(n_estimators=50, max_depth=10, eval_metric='error', gamma=gamma,\n",
    "                  colsample_bytree=0.5, learning_rate=learning_rate, \n",
    "                  reg_alpha=reg_alpha).fit(X_train, y_train)\n",
    "\n",
    "# Predict the labels of the test set\n",
    "preds_11 = book_xgb_clf_11.predict(X_test)\n",
    "print(preds_11[:5])\n",
    "\n",
    "# Compute the accuracy\n",
    "acc_11 = accuracy_score(y_test, preds_11)\n",
    "print(acc_11)"
   ]
  },
  {
   "cell_type": "markdown",
   "id": "ebfa2f7a",
   "metadata": {
    "colab_type": "text",
    "id": "SDd4PjwCegtP"
   },
   "source": [
    "**L2**, aka ridge regression, is also available with the parameter `reg_lambda`. L2 is known for having smoother penalty then L1. This means leaf weights smoothly decrease rather with less risk of sparsity in the leaf weights. So, make sure to try our different regularization techniques! "
   ]
  },
  {
   "cell_type": "markdown",
   "id": "07da866b-33f0-4065-9aa3-8752b543284e",
   "metadata": {},
   "source": [
    "#### Evaluating errors of model book_xgb_clf_11"
   ]
  },
  {
   "cell_type": "code",
   "execution_count": null,
   "id": "cacbc201-c66f-428f-8aed-7d66350c51e8",
   "metadata": {},
   "outputs": [],
   "source": [
    "instance_evaluating_errors_11 = Evaluating_Errors(book_xgb_clf_11)\n",
    "\n",
    "evals_result_df_11_class, evals_result_min_11_class = \\\n",
    "instance_evaluating_errors_11.eval_results()\n",
    "\n",
    "print(evals_result_min_11_class)\n",
    "evals_result_df_11_class.head()\n",
    "\n",
    "ymin_11_class, ymax_11_class, xvalue_11_class = \\\n",
    "instance_evaluating_errors_11.input_plot_errors()\n",
    "\n",
    "for i in [ymin_11_class, ymax_11_class, xvalue_11_class]:\n",
    "    print(i)\n",
    "\n",
    "instance_evaluating_errors_11.plot_errors()  \n"
   ]
  },
  {
   "cell_type": "markdown",
   "id": "9ffba8a4",
   "metadata": {
    "colab_type": "text",
    "id": "AJUwZYohz4Wu"
   },
   "source": [
    "Let's take a look at our resulting parameters after we manually changed them."
   ]
  },
  {
   "cell_type": "code",
   "execution_count": null,
   "id": "50a7995b",
   "metadata": {
    "colab": {
     "base_uri": "https://localhost:8080/",
     "height": 408
    },
    "colab_type": "code",
    "id": "01h-970eegtU",
    "outputId": "03a1a719-a0f6-43a3-fe53-e615317eb98b"
   },
   "outputs": [],
   "source": [
    "# Print the model parameters\n",
    "book_xgb_clf_11"
   ]
  },
  {
   "cell_type": "code",
   "execution_count": null,
   "id": "bdb0b3c4-1822-45a6-8730-8d92fcc8349b",
   "metadata": {},
   "outputs": [],
   "source": [
    "book_xgb_clf_11.get_xgb_params()"
   ]
  },
  {
   "cell_type": "markdown",
   "id": "68dda464",
   "metadata": {
    "colab_type": "text",
    "id": "Bc-k9UF1egtY"
   },
   "source": [
    "There are a lot of possible parameters combinations. We can't manually tune and pick them."
   ]
  },
  {
   "cell_type": "markdown",
   "id": "0a3bf6e8-5fe7-4f3f-853a-89a6958734ad",
   "metadata": {},
   "source": [
    "## **4. Cross validation**\n",
    "\n",
    "<p>\n",
    "Cross validation is a robust method for estimating the performance of the model of unseen\n",
    "data.\n",
    "For this reason the method generates many non-overlapping train/test-splits on the training data.\n",
    "It reports the average test-set performance across all generated data splits.\n",
    "</p>"
   ]
  },
  {
   "cell_type": "code",
   "execution_count": null,
   "id": "ac74dfcb-0283-46df-bc46-3c36117ca054",
   "metadata": {},
   "outputs": [],
   "source": [
    "# X_train, X_test, y_train, y_test\n",
    "\n",
    "DM_train = xgb.DMatrix(data=X_train, label=y_train)\n",
    "DM_train"
   ]
  },
  {
   "cell_type": "code",
   "execution_count": null,
   "id": "4241c458-b5aa-4ea7-abb0-773ad836db85",
   "metadata": {},
   "outputs": [],
   "source": [
    "book_cv_clf =   xgb.XGBClassifier(missing=9999999999,\n",
    "                max_depth = 7,\n",
    "                n_estimators=5,\n",
    "                learning_rate=0.1, \n",
    "                nthread=4,\n",
    "                subsample=1.0,\n",
    "                colsample_bytree=0.5,\n",
    "                min_child_weight = 3,\n",
    "                seed=1301)"
   ]
  },
  {
   "cell_type": "code",
   "execution_count": null,
   "id": "168062b5-2f3a-49b7-8598-ac9494c9939d",
   "metadata": {},
   "outputs": [],
   "source": [
    "book_cv_clf_params = book_cv_clf.get_xgb_params()\n",
    "print(book_cv_clf_params)"
   ]
  },
  {
   "cell_type": "code",
   "execution_count": null,
   "id": "6965fdae-682e-4a68-ad43-67081312bac9",
   "metadata": {},
   "outputs": [],
   "source": [
    "book_cv_results = \\\n",
    "xgb.cv(dtrain=DM_train, params=book_cv_clf_params, nfold=4, num_boost_round=10,\n",
    "       metrics=[\"error\"], early_stopping_rounds=50, stratified=True, seed=5698)"
   ]
  },
  {
   "cell_type": "code",
   "execution_count": null,
   "id": "9f071340-66d4-4859-a183-ede45f8af825",
   "metadata": {},
   "outputs": [],
   "source": [
    "book_cv_results"
   ]
  },
  {
   "cell_type": "code",
   "execution_count": null,
   "id": "bbd9cf58-c7ab-404e-8037-703b3c90ccd4",
   "metadata": {},
   "outputs": [],
   "source": [
    "book_cv_results.describe()"
   ]
  },
  {
   "cell_type": "code",
   "execution_count": null,
   "id": "13f9deea-c6da-4cc0-91aa-69afb8bb3dab",
   "metadata": {},
   "outputs": [],
   "source": [
    "book_cv_results_min, book_cv_results_max = \\\n",
    "book_cv_results[\"test-error-mean\"].aggregate(['min', 'max'])"
   ]
  },
  {
   "cell_type": "code",
   "execution_count": null,
   "id": "9e25313e-d9b5-48cf-bd43-b93759f606f8",
   "metadata": {},
   "outputs": [],
   "source": [
    "print(f\"book_cv_results_min: {book_cv_results_min}\")\n",
    "print(f\"book_cv_results_max: {book_cv_results_max}\")"
   ]
  },
  {
   "cell_type": "code",
   "execution_count": null,
   "id": "5875de67-a8c2-4422-80e3-cf8ca41b8d25",
   "metadata": {},
   "outputs": [],
   "source": [
    "book_cv_testerror_mean_df = pd.DataFrame(book_cv_results[\"test-error-mean\"])\n",
    "book_cv_testerror_mean_df['accuracy'] = 1 - book_cv_testerror_mean_df['test-error-mean']\n",
    "book_cv_testerror_mean_df.head()"
   ]
  },
  {
   "cell_type": "code",
   "execution_count": null,
   "id": "76a6d410-e310-40cc-9860-3b1b966e6c34",
   "metadata": {},
   "outputs": [],
   "source": [
    "book_cv_testerror_min_index = \\\n",
    "book_cv_testerror_mean_df[book_cv_testerror_mean_df['test-error-mean'] ==  book_cv_results_min]\n",
    "\n",
    "book_cv_testerror_max_index = \\\n",
    "book_cv_testerror_mean_df[book_cv_testerror_mean_df['test-error-mean'] ==  book_cv_results_max]"
   ]
  },
  {
   "cell_type": "code",
   "execution_count": null,
   "id": "83c443c5-da2c-43f9-8d20-0ef66e2294f8",
   "metadata": {},
   "outputs": [],
   "source": [
    "print(book_cv_testerror_max_index)"
   ]
  },
  {
   "cell_type": "code",
   "execution_count": null,
   "id": "66cecfb9-ab20-4701-a1f8-36edad5f8c86",
   "metadata": {},
   "outputs": [],
   "source": [
    "print(book_cv_testerror_min_index)\n",
    "\n",
    "print(type(book_cv_testerror_min_index))\n",
    "print(book_cv_testerror_min_index.info())\n",
    "\n"
   ]
  },
  {
   "cell_type": "code",
   "execution_count": null,
   "id": "3d3c3042-e03b-44d6-8bb2-4cd7a0f87946",
   "metadata": {},
   "outputs": [],
   "source": [
    "book_cv_testerror_min_index.iloc[:,1]\n",
    "book_cv_testerror_min_index.iloc[:,1].values"
   ]
  },
  {
   "cell_type": "code",
   "execution_count": null,
   "id": "5e2bc709-e6e8-443d-978a-370674a59d03",
   "metadata": {},
   "outputs": [],
   "source": [
    "acc_comparison.loc['cross_validation'] = book_cv_testerror_min_index.iloc[:,1].values\n",
    "acc_comparison.sort_values(by='Accuracy', ascending=False)"
   ]
  },
  {
   "cell_type": "code",
   "execution_count": null,
   "id": "a692463e-9deb-4b51-a1b3-bcff197f35c4",
   "metadata": {},
   "outputs": [],
   "source": [
    "book_cv_testerror_mean_df[['test-error-mean', 'accuracy']].\\\n",
    "plot(linewidth=5, color=['darkmagenta', 'green'], \n",
    "     figsize=(6,5))\n",
    "plt.show()"
   ]
  },
  {
   "cell_type": "code",
   "execution_count": null,
   "id": "079b007c-abde-4adb-9b92-46aa287bd395",
   "metadata": {},
   "outputs": [],
   "source": [
    "time_book_cv_clf_begin = time.time()\n",
    "\n",
    "book_cv_clf.fit(X_train, y_train, eval_metric='auc')\n",
    "\n",
    "time.sleep(1)\n",
    "time_book_cv_clf_end = time.time()\n",
    "print(f\"Total runtime of book_cv_clf.fit is: {round(time_book_cv_clf_end  - time_book_cv_clf_begin, 4)} seconds.\")"
   ]
  },
  {
   "cell_type": "code",
   "execution_count": null,
   "id": "78aad850-8286-4e25-be3d-0b363ac9b91b",
   "metadata": {},
   "outputs": [],
   "source": [
    "book_cv_clf_probas = book_cv_clf.predict_proba(X_train)"
   ]
  },
  {
   "cell_type": "code",
   "execution_count": null,
   "id": "1cd14d04-3b23-407f-ae7c-bb518d2bb9ad",
   "metadata": {},
   "outputs": [],
   "source": [
    "print('Overall AUC:', roc_auc_score(y_train, book_cv_clf_probas[:,1]))"
   ]
  },
  {
   "cell_type": "code",
   "execution_count": null,
   "id": "d42526f5-5711-435b-b24f-6b0e224daeab",
   "metadata": {},
   "outputs": [],
   "source": [
    "print('Predict the probabilities based on features in the test set')\n",
    "pred = book_cv_clf.predict_proba(X_test, ntree_limit=10)\n"
   ]
  },
  {
   "cell_type": "code",
   "execution_count": null,
   "id": "0b2ea66e-2f44-4101-8fd3-ac5a9ff9de43",
   "metadata": {},
   "outputs": [],
   "source": [
    "pred_df = pd.DataFrame({\"ID\":y_test.index, \"TARGET\":pred[:,1]})\n",
    "pred_df.head()"
   ]
  },
  {
   "cell_type": "markdown",
   "id": "8c98a070",
   "metadata": {
    "colab_type": "text",
    "id": "P-BrJrQJegtY"
   },
   "source": [
    "## **5. Hyperparameter tuning with Random Search and Grid Search**"
   ]
  },
  {
   "cell_type": "markdown",
   "id": "a188b3b7",
   "metadata": {
    "colab_type": "text",
    "id": "x8w5QLKtegtZ"
   },
   "source": [
    "Grid search and random search are the most popular methods for hyperparameter tuning. However, grid search can get computationally expensive if you are searching over a large hyperparameter space and dealing with multiple hyperparameters. This is why we'll use random search because it doesn't try all the hyperparameter values. In random search, a fixed number of hyperparameter settings is sampled from specified probability distributions.\n",
    "\n",
    "XGBoost doesn't have a built-in gridsearch function, so we need to use `scikit-learn`'s [RandomizedSearchCV](https://scikit-learn.org/stable/modules/generated/sklearn.model_selection.RandomizedSearchCV.html). This means we'll have to use `XGBClassifier()` because it's `scikit-learn` compatible.\n",
    "\n",
    "\n",
    "<p align=\"center\">\n",
    "<img src=\"https://github.com/datacamp/Machine-Learning-With-XGboost-live-training/blob/master/assets/randomized_search_1.gif?raw=true\" width = \"50%\"> \n",
    "</p>\n",
    "\n",
    "\n",
    "<br>\n",
    "\n",
    "The `RandomizedSearchCV()` function takes in the following arguments:\n",
    "\n",
    "- `estimator`: The estimator being fit, here it's XGBoost.\n",
    "- `param_distributions`: Unlike `params` - this is the distribution of possible hyperparameters to use.\n",
    "- `cv`: Number of cross-validation iterations\n",
    "- `n_iter`: Number of hyperparameter combinations to choose from\n",
    "- `verbose`: Prints more output"
   ]
  },
  {
   "cell_type": "code",
   "execution_count": null,
   "id": "4ec167c7-8661-43ca-86b7-40cb2f8984de",
   "metadata": {},
   "outputs": [],
   "source": [
    "from sklearn.model_selection import RandomizedSearchCV\n",
    "\n",
    "# Define a parameter grid\n",
    "booksrandom_paramgrid_1 = {\n",
    "    # max_depth: values from 3 to 12\n",
    "    'max_depth':np.arange(3,13),\n",
    "    # alpha: values 0, .001, .01, .1\n",
    "    'alpha':[0, .001, .01, .1],\n",
    "    # subsample: values 0.25,0.5,0.75, 1\n",
    "    'subsample':[0.25,0.5,0.75, 1],\n",
    "    # learning rate: ten values between 0.01 - 0.5\n",
    "    'learning_rate':np.linspace(0.01, 0.5, 10),\n",
    "    # n_estimators: values 10, 25, 40\n",
    "    'n_estimators':[10, 25, 40]\n",
    "}\n",
    "\n",
    "booksrandom_paramgrid_2 = {\n",
    "    # max_depth: values from 3 to 12\n",
    "    'max_depth':np.arange(3,6),\n",
    "    # alpha: values 0, .001, .01, .1\n",
    "    'alpha':[0, .001],\n",
    "    # subsample: values 0.25,0.5,0.75, 1\n",
    "    'subsample':[0.25,0.5],\n",
    "    # learning rate: ten values between 0.01 - 0.5\n",
    "    'learning_rate':np.linspace(0.01, 0.5, 3),\n",
    "    # n_estimators: values 10, 25, 40\n",
    "    'n_estimators':[10, 25]\n",
    "}"
   ]
  },
  {
   "cell_type": "code",
   "execution_count": null,
   "id": "0e5aae36",
   "metadata": {
    "colab": {
     "base_uri": "https://localhost:8080/",
     "height": 629
    },
    "colab_type": "code",
    "id": "rbhMqdeBegtZ",
    "outputId": "27004a33-5fba-42f8-a03a-bf6af40125eb"
   },
   "outputs": [],
   "source": [
    "# Insantiate XGBoost Clasifier \n",
    "randomsearch_clf = \\\n",
    "xgb.XGBClassifier(eval_metric='error', verbosity=0)\n"
   ]
  },
  {
   "cell_type": "code",
   "execution_count": null,
   "id": "a8ea20f0-4004-401d-9cbc-8fbd5dc61bff",
   "metadata": {},
   "outputs": [],
   "source": [
    "# Instantiate RandomizedSearchCV()\n",
    "bookings_randomsearch = \\\n",
    "RandomizedSearchCV(estimator=randomsearch_clf, \n",
    "                   param_distributions=booksrandom_paramgrid_2,\n",
    "                   n_iter=25,\n",
    "                   scoring='accuracy', cv=4, verbose=1)\n"
   ]
  },
  {
   "cell_type": "code",
   "execution_count": null,
   "id": "97039ad5-6b21-4014-b630-0a91eae044d9",
   "metadata": {},
   "outputs": [],
   "source": [
    "begin_randomsearch = time.time()\n",
    "\n",
    "# Train the model on the training set\n",
    "bookings_randomsearch.fit(X_gridsearch, y_gridsearch)\n",
    "\n",
    "time.sleep(1)\n",
    "end_randomsearch = time.time()\n",
    "\n",
    "print(f\"Total runtime of book_xgb_clf_3 is: {round(begin_randomsearch - begin_randomsearch, 4)} seconds.\")"
   ]
  },
  {
   "cell_type": "code",
   "execution_count": null,
   "id": "1bf4ce2d-dbd5-42e6-b9ff-d69a2e6b9195",
   "metadata": {},
   "outputs": [],
   "source": [
    "\n",
    "# Print the best parameters and highest accuracy\n",
    "bookings_randomsearch_bestparams = bookings_randomsearch.best_params_\n",
    "print(bookings_randomsearch_bestparams)\n",
    "print(f'Best parameters of random search: {bookings_randomsearch_bestparams}')\n",
    "\n",
    "bookings_randomsearch_bestscore = bookings_randomsearch.best_score_\n",
    "print(f'Best accuracy of random search: {bookings_randomsearch_bestscore}')"
   ]
  },
  {
   "cell_type": "code",
   "execution_count": null,
   "id": "97610b20-9461-407a-8436-dc6984f0077b",
   "metadata": {},
   "outputs": [],
   "source": [
    "joblib.dump(bookings_randomsearch, 'bookings_randomsearch.sav')"
   ]
  },
  {
   "cell_type": "code",
   "execution_count": null,
   "id": "8ca70473-1f72-4e4f-b411-60579d871958",
   "metadata": {},
   "outputs": [],
   "source": [
    "acc_comparison.loc['bookings_randomsearch_bestscore'] = bookings_randomsearch_bestscore\n",
    "acc_comparison.sort_values(by='Accuracy', ascending=False)"
   ]
  },
  {
   "cell_type": "markdown",
   "id": "33fc9817-a96d-4b5e-87bb-a13d7101ccd8",
   "metadata": {},
   "source": [
    "## Gridsearch"
   ]
  },
  {
   "cell_type": "code",
   "execution_count": null,
   "id": "bce8322c-a06b-46bd-9c47-20200c2d338d",
   "metadata": {},
   "outputs": [],
   "source": [
    "# from sklearn.model_selection import GridSearchCV\n",
    "\n",
    "bookings_param_grid = \\\n",
    "{\n",
    "'learning_rate': [0.001, 0.1, 0.5, 0.9],\n",
    "'n_estimators': [50,100],\n",
    "'subsample':[0.3, 0.5, 0.9],\n",
    "'max_depth':[5, 10, 20],\n",
    "'gamma':[0.2, 0.4, 0.6],\n",
    "'reg_alpha':[0.1, 0.02, 0.05, 0.1, 0.2]\n",
    "}"
   ]
  },
  {
   "cell_type": "code",
   "execution_count": null,
   "id": "884c956f-b9bc-419f-b702-2cafa503ba88",
   "metadata": {},
   "outputs": [],
   "source": [
    "bookings_param_grid_2 = \\\n",
    "{\n",
    "'learning_rate': [0.001, 0.1, 0.5],\n",
    "'n_estimators': [25,50],\n",
    "'subsample':[0.3,  0.9],\n",
    "'max_depth':[5, 20],\n",
    "'gamma':[0.2, 0.6],\n",
    "'reg_alpha':[0.1, 0.05, 0.1]\n",
    "}"
   ]
  },
  {
   "cell_type": "code",
   "execution_count": null,
   "id": "9bf5fb28-b65f-462a-aa03-82cc5fc1c46c",
   "metadata": {},
   "outputs": [],
   "source": [
    "bookings_param_grid_3 = \\\n",
    "{\n",
    "'learning_rate': [0.001, 0.1],\n",
    "'n_estimators': [10,15],\n",
    "'subsample':[0.3, 0.5],\n",
    "'max_depth':[5, 10],\n",
    "'gamma':[0.2, 0.4],\n",
    "'reg_alpha':[0.1, 0.05]\n",
    "}\n",
    "\n",
    "bookings_param_grid_4 = \\\n",
    "{\n",
    "'learning_rate': [0.001],\n",
    "'n_estimators': [10],\n",
    "'subsample':[0.3],\n",
    "'max_depth':[5],\n",
    "'gamma':[0.2, 0.4],\n",
    "'reg_alpha':[0.4]\n",
    "}\n",
    "\n",
    "bookings_param_grid_5 = \\\n",
    "{\n",
    "'learning_rate': [0.001],\n",
    "'n_estimators': [10],\n",
    "'subsample':[0.3],\n",
    "'max_depth':[5],\n",
    "'gamma':[0.2],\n",
    "'reg_alpha':[0.4],\n",
    "'eval_metric':'error', \n",
    "'verbosity':0\n",
    "}"
   ]
  },
  {
   "cell_type": "code",
   "execution_count": null,
   "id": "7c6ffec2-d3f5-4f94-98f8-584302e85f13",
   "metadata": {},
   "outputs": [],
   "source": [
    "gridsearch_clf = xgb.XGBClassifier(eval_metric='error', verbosity=0)"
   ]
  },
  {
   "cell_type": "code",
   "execution_count": null,
   "id": "769c4b61-7eb9-47da-ae8e-e56fab7af4cc",
   "metadata": {},
   "outputs": [],
   "source": [
    "bookings_grid = \\\n",
    "GridSearchCV(estimator=gridsearch_clf, param_grid=bookings_param_grid_4, scoring='accuracy',\n",
    "             cv=4)"
   ]
  },
  {
   "cell_type": "code",
   "execution_count": null,
   "id": "50e39cf1-8d33-40cd-a096-ad9707b2322c",
   "metadata": {},
   "outputs": [],
   "source": [
    "begin_grid = time.time()\n",
    "\n",
    "bookings_grid_fit = \\\n",
    "bookings_grid.fit(X_train, y_train)\n",
    "\n",
    "time.sleep(1)\n",
    "end_grid = time.time()\n",
    "\n",
    "print(f\"Total runtime of book_xgb_clf_3 is: {round(begin_grid - begin_grid, 4)} seconds.\")"
   ]
  },
  {
   "cell_type": "code",
   "execution_count": null,
   "id": "e6c569f8-57fd-4558-8480-08bec48344f0",
   "metadata": {},
   "outputs": [],
   "source": [
    "bookings_grid_bestparams = bookings_grid.best_params_\n",
    "print(f'Best parameters generated of the cross validation model: {bookings_grid_bestparams}')"
   ]
  },
  {
   "cell_type": "code",
   "execution_count": null,
   "id": "2c78f10d-258c-4264-8546-5f3ad5ab18fc",
   "metadata": {},
   "outputs": [],
   "source": [
    "bookings_grid_bestscore = bookings_grid.best_score_\n",
    "print(f'Best accuracy generated: \\n {bookings_grid_bestscore}')"
   ]
  },
  {
   "cell_type": "code",
   "execution_count": null,
   "id": "5c5d24d2-d952-43ce-9470-430fba9a1b3b",
   "metadata": {},
   "outputs": [],
   "source": [
    "joblib_bookings_grid = joblib.dump(bookings_grid , 'bookings_grid.sav')\n",
    "joblib_bookings_grid"
   ]
  },
  {
   "cell_type": "code",
   "execution_count": null,
   "id": "5f7907ff-0aa6-4423-8941-b1085d017806",
   "metadata": {},
   "outputs": [],
   "source": [
    "acc_comparison.loc['bookings_grid_bestscore'] = bookings_grid_bestscore \n",
    "acc_comparison.sort_values(by='Accuracy', ascending=False)"
   ]
  },
  {
   "cell_type": "markdown",
   "id": "a73d10be-ea49-4ee0-bb2d-c30bc1ceb1e7",
   "metadata": {},
   "source": [
    "<p>The acc above is not a good improvement.<br>\n",
    "As XGBoost is an ensemble technique the number of estimators or trees is essential.<br>\n",
    "The acc increases with the number of estimators up to a point.<br>\n",
    "A more technical point: the number of parameters tested increases the need for computing power.<br>\n",
    "Otherwise like here it takes long to test the different combinations by grid search.<br>\n",
    "Practically a cloud computing solution like AWS EC2 could be considered and more computing resource instances added.<br>"
   ]
  },
  {
   "cell_type": "code",
   "execution_count": null,
   "id": "f4a1abda-0b37-4811-924a-160d3b130382",
   "metadata": {},
   "outputs": [],
   "source": [
    "book_with_bestparams = xgb.XGBClassifier(eval_metric='error', verbosity=0,\n",
    "                                         gamma= 0.4, learning_rate=0.001, max_depth=5, \n",
    "                                         n_estimators=10, reg_alpha=0.4, subsample=0.3)"
   ]
  },
  {
   "cell_type": "code",
   "execution_count": null,
   "id": "5c62d3e2-b5b6-47b0-afd3-9ff7890bbe59",
   "metadata": {},
   "outputs": [],
   "source": [
    "book_with_bestparams.fit(X_train, y_train)\n",
    "preds_book_with_bestparam = book_with_bestparams.predict(X_test)\n",
    "acc_book_with_bestparam = accuracy_score(y_test, preds_book_with_bestparam)\n",
    "\n",
    "print(acc_book_with_bestparam)"
   ]
  },
  {
   "cell_type": "code",
   "execution_count": null,
   "id": "080b6f0e-535a-4175-8dbe-b5c37a4af142",
   "metadata": {},
   "outputs": [],
   "source": [
    "acc_comparison.loc['acc_book_with_bestparam'] = acc_book_with_bestparam\n",
    "acc_comparison.sort_values(by='Accuracy', ascending=False)"
   ]
  },
  {
   "cell_type": "markdown",
   "id": "d034e782-6efe-4051-a382-ed159491055a",
   "metadata": {},
   "source": [
    "### Machine learning pipelines with XGBoost\n",
    "\n",
    "<p>\n",
    "The process:<br>\n",
    "Inputs: scaler, clf -> pipeline -> cross validation\n",
    "\n",
    "<ul>\n",
    "  <li>Inputs can be every scikit compatible method.</li>\n",
    "  <li>Typical methods are estimators (models) or preprocessing methods like scaling or label encoding.\n",
    "    </li>\n",
    "  <li>The pipeline is a tuple.</li>\n",
    "  <li>Compatible validation methods: cross validation, cross val score, grid search, random grid search.</li>\n",
    "</ul> "
   ]
  },
  {
   "cell_type": "code",
   "execution_count": null,
   "id": "0712d1c4-c5b1-436a-980b-5ddcea9cff64",
   "metadata": {},
   "outputs": [],
   "source": [
    "X_gridsearch_dtypes = X_gridsearch.dtypes\n",
    "\n",
    "print(type(X_gridsearch_dtypes))\n",
    "print(X_gridsearch_dtypes[:5])"
   ]
  },
  {
   "cell_type": "code",
   "execution_count": null,
   "id": "777e430f-94a9-4c63-a20f-358faf55c8b6",
   "metadata": {},
   "outputs": [],
   "source": [
    "book_pipe = Pipeline([('scaler', StandardScaler()), ('xgb_model', xgb.XGBClassifier())])"
   ]
  },
  {
   "cell_type": "code",
   "execution_count": null,
   "id": "ad26ba39-ecb5-468f-b887-8538261d5047",
   "metadata": {},
   "outputs": [],
   "source": [
    "time_begin_book_cross_val_scores = time.time()\n",
    "\n",
    "book_cross_val_scores = \\\n",
    "cross_val_score(book_pipe, X_gridsearch, y_gridsearch, scoring='accuracy', \n",
    "                cv=5 )\n",
    "\n",
    "time.sleep(1)\n",
    "time_end_book_cross_val_scores = time.time()\n",
    "\n",
    "print(f\"Total runtime of the program is {time_end_book_cross_val_scores - time_begin_book_cross_val_scores}.\")"
   ]
  },
  {
   "cell_type": "code",
   "execution_count": null,
   "id": "7d53aeba-a57d-407c-9fd7-54f5086bad1a",
   "metadata": {},
   "outputs": [],
   "source": [
    "print(book_cross_val_scores)\n",
    "\n",
    "book_cross_val_scores_mean = np.mean(book_cross_val_scores)\n",
    "print(f'Mean accuracy: {book_cross_val_scores_mean}')"
   ]
  },
  {
   "cell_type": "code",
   "execution_count": null,
   "id": "1cf02114-6f63-4684-97b5-b0bdafbc7ed0",
   "metadata": {},
   "outputs": [],
   "source": [
    "value_for_pred_1 = X_gridsearch.iloc[15,:]\n",
    "cross_val_score.predict(value_for_pred_1)"
   ]
  },
  {
   "cell_type": "code",
   "execution_count": null,
   "id": "00e41dda-44ac-4dcf-a82b-7d46892e8978",
   "metadata": {},
   "outputs": [],
   "source": [
    "acc_comparison.loc['book_cross_val_scores_mean'] = book_cross_val_scores_mean\n",
    "acc_comparison.sort_values(by='Accuracy', ascending=False)"
   ]
  },
  {
   "cell_type": "markdown",
   "id": "76310a5d-e1b1-4bca-b6ec-7a25c1da2b81",
   "metadata": {},
   "source": [
    "### Hyper tuning an XGBoost model in a pipeline with Gridsearch\n",
    "\n",
    "<p>\n",
    "Here are coming a number of methods together:\n",
    "</p>\n",
    "\n",
    "<ul>\n",
    "  <li>Pipeline with scaling and estimator</li>\n",
    "  <li>A param grid with parameters adjusted to the estimator.</li>\n",
    "  <li>Gridsearch</li>\n",
    "</ul> \n",
    "\n",
    "<p>\n",
    "Luckily Gridsearch understand pipes and param grids.\n",
    "</p>"
   ]
  },
  {
   "cell_type": "code",
   "execution_count": null,
   "id": "10672f00-23bb-4b4f-aa21-787cac795385",
   "metadata": {},
   "outputs": [],
   "source": [
    "# The scaler stays the same\n",
    "book_pipe = Pipeline([('scaler', StandardScaler()), ('xgb_model', xgb.XGBClassifier())])\n",
    "\n",
    "# The grid is slightly changed. The name needs the model and then double underscores\n",
    "bookings_param_grid_200 = [{'xgb_model__learning_rate': [0.001, 0.01]}]\n",
    "\n",
    "bookings_param_grid_300 = \\\n",
    "[{\n",
    "'xgb_model__learning_rate': [0.001, 0.01],\n",
    "'xgb_model__n_estimators': [10, 15],\n",
    "'xgb_model__subsample':[0.3, 0.6],\n",
    "'xgb_model__max_depth':[5, 10],\n",
    "'xgb_model__reg_alpha':[0.4, 0.6]\n",
    "}]"
   ]
  },
  {
   "cell_type": "code",
   "execution_count": null,
   "id": "aa26d451-93cd-47fb-b9d8-8eb9fdc92c16",
   "metadata": {},
   "outputs": [],
   "source": [
    "book_pipe_gscv  = GridSearchCV(estimator=book_pipe,\n",
    "                  param_grid=bookings_param_grid_200,\n",
    "                  scoring='accuracy',\n",
    "                  cv=10) "
   ]
  },
  {
   "cell_type": "markdown",
   "id": "5135278e-e846-4b7a-9393-3358443ba2ac",
   "metadata": {},
   "source": [
    "#### What parameters are available for tuning?\n",
    "<p>\n",
    "The syntax for the param grid adjusted to the estimator is:<br>\n",
    "estimator_name__parameter<br>\n",
    "The syntax uses a double underscore between name and parameter.<br>\n",
    "In the example above this is:<br>\n",
    "'xgb_model__learning_rate'\n",
    "</p>\n",
    "\n",
    "<p>\n",
    "The double underscores make all the different, see\n",
    "<a href=\"https://stackoverflow.com/questions/41899132/invalid-parameter-for-sklearn-estimator-pipeline\" target=\"_blank\">Stack</a>\n",
    "</p>\n"
   ]
  },
  {
   "cell_type": "code",
   "execution_count": null,
   "id": "2e77d470-f21d-44c7-9ea4-f8372792d842",
   "metadata": {},
   "outputs": [],
   "source": [
    "keys_pipe_grid = list(book_pipe_gscv.get_params().keys())\n",
    "print(type(keys_pipe_grid ))\n",
    "keys_pipe_grid [:10]\n"
   ]
  },
  {
   "cell_type": "code",
   "execution_count": null,
   "id": "4db5e583-5c37-4904-af0b-fa9591824af5",
   "metadata": {},
   "outputs": [],
   "source": [
    "t_b_1 = time.time()\n",
    "\n",
    "book_pipe_gscv.fit(X_gridsearch, y_gridsearch)\n",
    "\n",
    "time.sleep(1)\n",
    "t_b_2 = time.time()\n",
    "# total time taken\n",
    "print(f\"Total runtime of the program is {t_b_2 - t_b_1}\")"
   ]
  },
  {
   "cell_type": "code",
   "execution_count": null,
   "id": "6c6a8dd7-a63e-4650-a311-50c3afd1036d",
   "metadata": {},
   "outputs": [],
   "source": [
    "book_pipe_gscv_bestparams = book_pipe_gscv.best_params_\n",
    "print(f'Best parameters generated of the cross validation model: {book_pipe_gscv_bestparams}')"
   ]
  },
  {
   "cell_type": "code",
   "execution_count": null,
   "id": "70021100-33a3-4cba-ac9a-6d60d8e1f3cd",
   "metadata": {},
   "outputs": [],
   "source": [
    "book_pipe_gscv_bestscore = book_pipe_gscv.best_score_\n",
    "print(f'Best accuracy generated: \\n {book_pipe_gscv_bestscore}')"
   ]
  },
  {
   "cell_type": "code",
   "execution_count": null,
   "id": "7ef578bf-1d01-4e15-8ee9-fb648ca7426f",
   "metadata": {},
   "outputs": [],
   "source": [
    "joblib.dump(book_pipe_gscv , 'book_pipe_gscv.sav')"
   ]
  },
  {
   "cell_type": "code",
   "execution_count": null,
   "id": "edfff737-1681-4659-8c19-392d10e4d0d3",
   "metadata": {},
   "outputs": [],
   "source": [
    "joblib_model_book_pipe_gscv = joblib.load('book_pipe_gscv.sav')"
   ]
  },
  {
   "cell_type": "code",
   "execution_count": null,
   "id": "f3f95d1d-aba3-46fe-939b-8235cdd78c0c",
   "metadata": {},
   "outputs": [],
   "source": [
    "joblib_model_book_pipe_gscv "
   ]
  },
  {
   "cell_type": "code",
   "execution_count": null,
   "id": "80f6164e-c684-4a93-aeb3-fc61f494a6c6",
   "metadata": {},
   "outputs": [],
   "source": [
    "acc_comparison.loc['book_pipe_gscv_bestscore'] = book_pipe_gscv_bestscore\n",
    "acc_comparison.sort_values(by='Accuracy', ascending=False)"
   ]
  },
  {
   "cell_type": "code",
   "execution_count": null,
   "id": "f104878b-c6f3-4e4e-be3f-781ea74ac7f5",
   "metadata": {},
   "outputs": [],
   "source": []
  }
 ],
 "metadata": {
  "colab": {
   "name": "Machine_Learning_with_XGBoost_solution.ipynb",
   "provenance": []
  },
  "kernelspec": {
   "display_name": "Python 3 (ipykernel)",
   "language": "python",
   "name": "python3"
  },
  "language_info": {
   "codemirror_mode": {
    "name": "ipython",
    "version": 3
   },
   "file_extension": ".py",
   "mimetype": "text/x-python",
   "name": "python",
   "nbconvert_exporter": "python",
   "pygments_lexer": "ipython3",
   "version": "3.8.10"
  }
 },
 "nbformat": 4,
 "nbformat_minor": 5
}
